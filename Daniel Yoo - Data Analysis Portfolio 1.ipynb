{
 "cells": [
  {
   "cell_type": "markdown",
   "metadata": {},
   "source": [
    "#    Kaggle Standard Customer Transcript Predictoin"
   ]
  },
  {
   "cell_type": "markdown",
   "metadata": {},
   "source": [
    "\n",
    "\n",
    "<font size='4'>This is a data analysis portfolio written by Daniel Yoo, using data from Kaggle competition 'Santander Customer Transaction Prediction'.</font>\n",
    "\n",
    "## <font size=\"4\">Competition Description</font>\n",
    "\n",
    "At Santander our mission is to help people and businesses prosper. We are always looking for ways to help our customers understand their financial health and identify which products and services might help them achieve their monetary goals.\n",
    "\n",
    "Our data science team is continually challenging our machine learning algorithms, working with the global data science community to make sure we can more accurately identify new ways to solve our most common challenge, binary classification problems such as: is a customer satisfied? Will a customer buy this product? Can a customer pay this loan?\n",
    "\n",
    "In this challenge, we invite Kagglers to help us identify which customers will make a specific transaction in the future, irrespective of the amount of money transacted. The data provided for this competition has the same structure as the real data we have available to solve this problem.\n",
    "\n",
    "\n",
    "\n"
   ]
  },
  {
   "cell_type": "markdown",
   "metadata": {},
   "source": [
    "# Data Preprocessing\n"
   ]
  },
  {
   "cell_type": "markdown",
   "metadata": {},
   "source": [
    "First, import libraries and data"
   ]
  },
  {
   "cell_type": "code",
   "execution_count": 1,
   "metadata": {},
   "outputs": [],
   "source": [
    "import numpy as np\n",
    "import pandas as pd\n",
    "import matplotlib.pyplot as plt\n",
    "%matplotlib inline\n",
    "import seaborn as sns"
   ]
  },
  {
   "cell_type": "code",
   "execution_count": 2,
   "metadata": {},
   "outputs": [],
   "source": [
    "train = pd.read_csv('train.csv')\n",
    "test = pd.read_csv('test.csv')"
   ]
  },
  {
   "cell_type": "markdown",
   "metadata": {},
   "source": [
    "brief information about the training set"
   ]
  },
  {
   "cell_type": "code",
   "execution_count": 7,
   "metadata": {},
   "outputs": [
    {
     "data": {
      "text/html": [
       "<div>\n",
       "<style scoped>\n",
       "    .dataframe tbody tr th:only-of-type {\n",
       "        vertical-align: middle;\n",
       "    }\n",
       "\n",
       "    .dataframe tbody tr th {\n",
       "        vertical-align: top;\n",
       "    }\n",
       "\n",
       "    .dataframe thead th {\n",
       "        text-align: right;\n",
       "    }\n",
       "</style>\n",
       "<table border=\"1\" class=\"dataframe\">\n",
       "  <thead>\n",
       "    <tr style=\"text-align: right;\">\n",
       "      <th></th>\n",
       "      <th>ID_code</th>\n",
       "      <th>target</th>\n",
       "      <th>var_0</th>\n",
       "      <th>var_1</th>\n",
       "      <th>var_2</th>\n",
       "      <th>var_3</th>\n",
       "      <th>var_4</th>\n",
       "      <th>var_5</th>\n",
       "      <th>var_6</th>\n",
       "      <th>var_7</th>\n",
       "      <th>...</th>\n",
       "      <th>var_190</th>\n",
       "      <th>var_191</th>\n",
       "      <th>var_192</th>\n",
       "      <th>var_193</th>\n",
       "      <th>var_194</th>\n",
       "      <th>var_195</th>\n",
       "      <th>var_196</th>\n",
       "      <th>var_197</th>\n",
       "      <th>var_198</th>\n",
       "      <th>var_199</th>\n",
       "    </tr>\n",
       "  </thead>\n",
       "  <tbody>\n",
       "    <tr>\n",
       "      <th>0</th>\n",
       "      <td>train_0</td>\n",
       "      <td>0</td>\n",
       "      <td>8.9255</td>\n",
       "      <td>-6.7863</td>\n",
       "      <td>11.9081</td>\n",
       "      <td>5.0930</td>\n",
       "      <td>11.4607</td>\n",
       "      <td>-9.2834</td>\n",
       "      <td>5.1187</td>\n",
       "      <td>18.6266</td>\n",
       "      <td>...</td>\n",
       "      <td>4.4354</td>\n",
       "      <td>3.9642</td>\n",
       "      <td>3.1364</td>\n",
       "      <td>1.6910</td>\n",
       "      <td>18.5227</td>\n",
       "      <td>-2.3978</td>\n",
       "      <td>7.8784</td>\n",
       "      <td>8.5635</td>\n",
       "      <td>12.7803</td>\n",
       "      <td>-1.0914</td>\n",
       "    </tr>\n",
       "    <tr>\n",
       "      <th>1</th>\n",
       "      <td>train_1</td>\n",
       "      <td>0</td>\n",
       "      <td>11.5006</td>\n",
       "      <td>-4.1473</td>\n",
       "      <td>13.8588</td>\n",
       "      <td>5.3890</td>\n",
       "      <td>12.3622</td>\n",
       "      <td>7.0433</td>\n",
       "      <td>5.6208</td>\n",
       "      <td>16.5338</td>\n",
       "      <td>...</td>\n",
       "      <td>7.6421</td>\n",
       "      <td>7.7214</td>\n",
       "      <td>2.5837</td>\n",
       "      <td>10.9516</td>\n",
       "      <td>15.4305</td>\n",
       "      <td>2.0339</td>\n",
       "      <td>8.1267</td>\n",
       "      <td>8.7889</td>\n",
       "      <td>18.3560</td>\n",
       "      <td>1.9518</td>\n",
       "    </tr>\n",
       "    <tr>\n",
       "      <th>2</th>\n",
       "      <td>train_2</td>\n",
       "      <td>0</td>\n",
       "      <td>8.6093</td>\n",
       "      <td>-2.7457</td>\n",
       "      <td>12.0805</td>\n",
       "      <td>7.8928</td>\n",
       "      <td>10.5825</td>\n",
       "      <td>-9.0837</td>\n",
       "      <td>6.9427</td>\n",
       "      <td>14.6155</td>\n",
       "      <td>...</td>\n",
       "      <td>2.9057</td>\n",
       "      <td>9.7905</td>\n",
       "      <td>1.6704</td>\n",
       "      <td>1.6858</td>\n",
       "      <td>21.6042</td>\n",
       "      <td>3.1417</td>\n",
       "      <td>-6.5213</td>\n",
       "      <td>8.2675</td>\n",
       "      <td>14.7222</td>\n",
       "      <td>0.3965</td>\n",
       "    </tr>\n",
       "    <tr>\n",
       "      <th>3</th>\n",
       "      <td>train_3</td>\n",
       "      <td>0</td>\n",
       "      <td>11.0604</td>\n",
       "      <td>-2.1518</td>\n",
       "      <td>8.9522</td>\n",
       "      <td>7.1957</td>\n",
       "      <td>12.5846</td>\n",
       "      <td>-1.8361</td>\n",
       "      <td>5.8428</td>\n",
       "      <td>14.9250</td>\n",
       "      <td>...</td>\n",
       "      <td>4.4666</td>\n",
       "      <td>4.7433</td>\n",
       "      <td>0.7178</td>\n",
       "      <td>1.4214</td>\n",
       "      <td>23.0347</td>\n",
       "      <td>-1.2706</td>\n",
       "      <td>-2.9275</td>\n",
       "      <td>10.2922</td>\n",
       "      <td>17.9697</td>\n",
       "      <td>-8.9996</td>\n",
       "    </tr>\n",
       "    <tr>\n",
       "      <th>4</th>\n",
       "      <td>train_4</td>\n",
       "      <td>0</td>\n",
       "      <td>9.8369</td>\n",
       "      <td>-1.4834</td>\n",
       "      <td>12.8746</td>\n",
       "      <td>6.6375</td>\n",
       "      <td>12.2772</td>\n",
       "      <td>2.4486</td>\n",
       "      <td>5.9405</td>\n",
       "      <td>19.2514</td>\n",
       "      <td>...</td>\n",
       "      <td>-1.4905</td>\n",
       "      <td>9.5214</td>\n",
       "      <td>-0.1508</td>\n",
       "      <td>9.1942</td>\n",
       "      <td>13.2876</td>\n",
       "      <td>-1.5121</td>\n",
       "      <td>3.9267</td>\n",
       "      <td>9.5031</td>\n",
       "      <td>17.9974</td>\n",
       "      <td>-8.8104</td>\n",
       "    </tr>\n",
       "  </tbody>\n",
       "</table>\n",
       "<p>5 rows × 202 columns</p>\n",
       "</div>"
      ],
      "text/plain": [
       "   ID_code  target    var_0   var_1    var_2   var_3    var_4   var_5   var_6  \\\n",
       "0  train_0       0   8.9255 -6.7863  11.9081  5.0930  11.4607 -9.2834  5.1187   \n",
       "1  train_1       0  11.5006 -4.1473  13.8588  5.3890  12.3622  7.0433  5.6208   \n",
       "2  train_2       0   8.6093 -2.7457  12.0805  7.8928  10.5825 -9.0837  6.9427   \n",
       "3  train_3       0  11.0604 -2.1518   8.9522  7.1957  12.5846 -1.8361  5.8428   \n",
       "4  train_4       0   9.8369 -1.4834  12.8746  6.6375  12.2772  2.4486  5.9405   \n",
       "\n",
       "     var_7   ...     var_190  var_191  var_192  var_193  var_194  var_195  \\\n",
       "0  18.6266   ...      4.4354   3.9642   3.1364   1.6910  18.5227  -2.3978   \n",
       "1  16.5338   ...      7.6421   7.7214   2.5837  10.9516  15.4305   2.0339   \n",
       "2  14.6155   ...      2.9057   9.7905   1.6704   1.6858  21.6042   3.1417   \n",
       "3  14.9250   ...      4.4666   4.7433   0.7178   1.4214  23.0347  -1.2706   \n",
       "4  19.2514   ...     -1.4905   9.5214  -0.1508   9.1942  13.2876  -1.5121   \n",
       "\n",
       "   var_196  var_197  var_198  var_199  \n",
       "0   7.8784   8.5635  12.7803  -1.0914  \n",
       "1   8.1267   8.7889  18.3560   1.9518  \n",
       "2  -6.5213   8.2675  14.7222   0.3965  \n",
       "3  -2.9275  10.2922  17.9697  -8.9996  \n",
       "4   3.9267   9.5031  17.9974  -8.8104  \n",
       "\n",
       "[5 rows x 202 columns]"
      ]
     },
     "execution_count": 7,
     "metadata": {},
     "output_type": "execute_result"
    }
   ],
   "source": [
    "train.head()"
   ]
  },
  {
   "cell_type": "code",
   "execution_count": 8,
   "metadata": {},
   "outputs": [
    {
     "data": {
      "text/html": [
       "<div>\n",
       "<style scoped>\n",
       "    .dataframe tbody tr th:only-of-type {\n",
       "        vertical-align: middle;\n",
       "    }\n",
       "\n",
       "    .dataframe tbody tr th {\n",
       "        vertical-align: top;\n",
       "    }\n",
       "\n",
       "    .dataframe thead th {\n",
       "        text-align: right;\n",
       "    }\n",
       "</style>\n",
       "<table border=\"1\" class=\"dataframe\">\n",
       "  <thead>\n",
       "    <tr style=\"text-align: right;\">\n",
       "      <th></th>\n",
       "      <th>target</th>\n",
       "      <th>var_0</th>\n",
       "      <th>var_1</th>\n",
       "      <th>var_2</th>\n",
       "      <th>var_3</th>\n",
       "      <th>var_4</th>\n",
       "      <th>var_5</th>\n",
       "      <th>var_6</th>\n",
       "      <th>var_7</th>\n",
       "      <th>var_8</th>\n",
       "      <th>...</th>\n",
       "      <th>var_190</th>\n",
       "      <th>var_191</th>\n",
       "      <th>var_192</th>\n",
       "      <th>var_193</th>\n",
       "      <th>var_194</th>\n",
       "      <th>var_195</th>\n",
       "      <th>var_196</th>\n",
       "      <th>var_197</th>\n",
       "      <th>var_198</th>\n",
       "      <th>var_199</th>\n",
       "    </tr>\n",
       "  </thead>\n",
       "  <tbody>\n",
       "    <tr>\n",
       "      <th>count</th>\n",
       "      <td>200000.000000</td>\n",
       "      <td>200000.000000</td>\n",
       "      <td>200000.000000</td>\n",
       "      <td>200000.000000</td>\n",
       "      <td>200000.000000</td>\n",
       "      <td>200000.000000</td>\n",
       "      <td>200000.000000</td>\n",
       "      <td>200000.000000</td>\n",
       "      <td>200000.000000</td>\n",
       "      <td>200000.000000</td>\n",
       "      <td>...</td>\n",
       "      <td>200000.000000</td>\n",
       "      <td>200000.000000</td>\n",
       "      <td>200000.000000</td>\n",
       "      <td>200000.000000</td>\n",
       "      <td>200000.000000</td>\n",
       "      <td>200000.000000</td>\n",
       "      <td>200000.000000</td>\n",
       "      <td>200000.000000</td>\n",
       "      <td>200000.000000</td>\n",
       "      <td>200000.000000</td>\n",
       "    </tr>\n",
       "    <tr>\n",
       "      <th>mean</th>\n",
       "      <td>0.100490</td>\n",
       "      <td>10.679914</td>\n",
       "      <td>-1.627622</td>\n",
       "      <td>10.715192</td>\n",
       "      <td>6.796529</td>\n",
       "      <td>11.078333</td>\n",
       "      <td>-5.065317</td>\n",
       "      <td>5.408949</td>\n",
       "      <td>16.545850</td>\n",
       "      <td>0.284162</td>\n",
       "      <td>...</td>\n",
       "      <td>3.234440</td>\n",
       "      <td>7.438408</td>\n",
       "      <td>1.927839</td>\n",
       "      <td>3.331774</td>\n",
       "      <td>17.993784</td>\n",
       "      <td>-0.142088</td>\n",
       "      <td>2.303335</td>\n",
       "      <td>8.908158</td>\n",
       "      <td>15.870720</td>\n",
       "      <td>-3.326537</td>\n",
       "    </tr>\n",
       "    <tr>\n",
       "      <th>std</th>\n",
       "      <td>0.300653</td>\n",
       "      <td>3.040051</td>\n",
       "      <td>4.050044</td>\n",
       "      <td>2.640894</td>\n",
       "      <td>2.043319</td>\n",
       "      <td>1.623150</td>\n",
       "      <td>7.863267</td>\n",
       "      <td>0.866607</td>\n",
       "      <td>3.418076</td>\n",
       "      <td>3.332634</td>\n",
       "      <td>...</td>\n",
       "      <td>4.559922</td>\n",
       "      <td>3.023272</td>\n",
       "      <td>1.478423</td>\n",
       "      <td>3.992030</td>\n",
       "      <td>3.135162</td>\n",
       "      <td>1.429372</td>\n",
       "      <td>5.454369</td>\n",
       "      <td>0.921625</td>\n",
       "      <td>3.010945</td>\n",
       "      <td>10.438015</td>\n",
       "    </tr>\n",
       "    <tr>\n",
       "      <th>min</th>\n",
       "      <td>0.000000</td>\n",
       "      <td>0.408400</td>\n",
       "      <td>-15.043400</td>\n",
       "      <td>2.117100</td>\n",
       "      <td>-0.040200</td>\n",
       "      <td>5.074800</td>\n",
       "      <td>-32.562600</td>\n",
       "      <td>2.347300</td>\n",
       "      <td>5.349700</td>\n",
       "      <td>-10.505500</td>\n",
       "      <td>...</td>\n",
       "      <td>-14.093300</td>\n",
       "      <td>-2.691700</td>\n",
       "      <td>-3.814500</td>\n",
       "      <td>-11.783400</td>\n",
       "      <td>8.694400</td>\n",
       "      <td>-5.261000</td>\n",
       "      <td>-14.209600</td>\n",
       "      <td>5.960600</td>\n",
       "      <td>6.299300</td>\n",
       "      <td>-38.852800</td>\n",
       "    </tr>\n",
       "    <tr>\n",
       "      <th>25%</th>\n",
       "      <td>0.000000</td>\n",
       "      <td>8.453850</td>\n",
       "      <td>-4.740025</td>\n",
       "      <td>8.722475</td>\n",
       "      <td>5.254075</td>\n",
       "      <td>9.883175</td>\n",
       "      <td>-11.200350</td>\n",
       "      <td>4.767700</td>\n",
       "      <td>13.943800</td>\n",
       "      <td>-2.317800</td>\n",
       "      <td>...</td>\n",
       "      <td>-0.058825</td>\n",
       "      <td>5.157400</td>\n",
       "      <td>0.889775</td>\n",
       "      <td>0.584600</td>\n",
       "      <td>15.629800</td>\n",
       "      <td>-1.170700</td>\n",
       "      <td>-1.946925</td>\n",
       "      <td>8.252800</td>\n",
       "      <td>13.829700</td>\n",
       "      <td>-11.208475</td>\n",
       "    </tr>\n",
       "    <tr>\n",
       "      <th>50%</th>\n",
       "      <td>0.000000</td>\n",
       "      <td>10.524750</td>\n",
       "      <td>-1.608050</td>\n",
       "      <td>10.580000</td>\n",
       "      <td>6.825000</td>\n",
       "      <td>11.108250</td>\n",
       "      <td>-4.833150</td>\n",
       "      <td>5.385100</td>\n",
       "      <td>16.456800</td>\n",
       "      <td>0.393700</td>\n",
       "      <td>...</td>\n",
       "      <td>3.203600</td>\n",
       "      <td>7.347750</td>\n",
       "      <td>1.901300</td>\n",
       "      <td>3.396350</td>\n",
       "      <td>17.957950</td>\n",
       "      <td>-0.172700</td>\n",
       "      <td>2.408900</td>\n",
       "      <td>8.888200</td>\n",
       "      <td>15.934050</td>\n",
       "      <td>-2.819550</td>\n",
       "    </tr>\n",
       "    <tr>\n",
       "      <th>75%</th>\n",
       "      <td>0.000000</td>\n",
       "      <td>12.758200</td>\n",
       "      <td>1.358625</td>\n",
       "      <td>12.516700</td>\n",
       "      <td>8.324100</td>\n",
       "      <td>12.261125</td>\n",
       "      <td>0.924800</td>\n",
       "      <td>6.003000</td>\n",
       "      <td>19.102900</td>\n",
       "      <td>2.937900</td>\n",
       "      <td>...</td>\n",
       "      <td>6.406200</td>\n",
       "      <td>9.512525</td>\n",
       "      <td>2.949500</td>\n",
       "      <td>6.205800</td>\n",
       "      <td>20.396525</td>\n",
       "      <td>0.829600</td>\n",
       "      <td>6.556725</td>\n",
       "      <td>9.593300</td>\n",
       "      <td>18.064725</td>\n",
       "      <td>4.836800</td>\n",
       "    </tr>\n",
       "    <tr>\n",
       "      <th>max</th>\n",
       "      <td>1.000000</td>\n",
       "      <td>20.315000</td>\n",
       "      <td>10.376800</td>\n",
       "      <td>19.353000</td>\n",
       "      <td>13.188300</td>\n",
       "      <td>16.671400</td>\n",
       "      <td>17.251600</td>\n",
       "      <td>8.447700</td>\n",
       "      <td>27.691800</td>\n",
       "      <td>10.151300</td>\n",
       "      <td>...</td>\n",
       "      <td>18.440900</td>\n",
       "      <td>16.716500</td>\n",
       "      <td>8.402400</td>\n",
       "      <td>18.281800</td>\n",
       "      <td>27.928800</td>\n",
       "      <td>4.272900</td>\n",
       "      <td>18.321500</td>\n",
       "      <td>12.000400</td>\n",
       "      <td>26.079100</td>\n",
       "      <td>28.500700</td>\n",
       "    </tr>\n",
       "  </tbody>\n",
       "</table>\n",
       "<p>8 rows × 201 columns</p>\n",
       "</div>"
      ],
      "text/plain": [
       "              target          var_0          var_1          var_2  \\\n",
       "count  200000.000000  200000.000000  200000.000000  200000.000000   \n",
       "mean        0.100490      10.679914      -1.627622      10.715192   \n",
       "std         0.300653       3.040051       4.050044       2.640894   \n",
       "min         0.000000       0.408400     -15.043400       2.117100   \n",
       "25%         0.000000       8.453850      -4.740025       8.722475   \n",
       "50%         0.000000      10.524750      -1.608050      10.580000   \n",
       "75%         0.000000      12.758200       1.358625      12.516700   \n",
       "max         1.000000      20.315000      10.376800      19.353000   \n",
       "\n",
       "               var_3          var_4          var_5          var_6  \\\n",
       "count  200000.000000  200000.000000  200000.000000  200000.000000   \n",
       "mean        6.796529      11.078333      -5.065317       5.408949   \n",
       "std         2.043319       1.623150       7.863267       0.866607   \n",
       "min        -0.040200       5.074800     -32.562600       2.347300   \n",
       "25%         5.254075       9.883175     -11.200350       4.767700   \n",
       "50%         6.825000      11.108250      -4.833150       5.385100   \n",
       "75%         8.324100      12.261125       0.924800       6.003000   \n",
       "max        13.188300      16.671400      17.251600       8.447700   \n",
       "\n",
       "               var_7          var_8      ...              var_190  \\\n",
       "count  200000.000000  200000.000000      ...        200000.000000   \n",
       "mean       16.545850       0.284162      ...             3.234440   \n",
       "std         3.418076       3.332634      ...             4.559922   \n",
       "min         5.349700     -10.505500      ...           -14.093300   \n",
       "25%        13.943800      -2.317800      ...            -0.058825   \n",
       "50%        16.456800       0.393700      ...             3.203600   \n",
       "75%        19.102900       2.937900      ...             6.406200   \n",
       "max        27.691800      10.151300      ...            18.440900   \n",
       "\n",
       "             var_191        var_192        var_193        var_194  \\\n",
       "count  200000.000000  200000.000000  200000.000000  200000.000000   \n",
       "mean        7.438408       1.927839       3.331774      17.993784   \n",
       "std         3.023272       1.478423       3.992030       3.135162   \n",
       "min        -2.691700      -3.814500     -11.783400       8.694400   \n",
       "25%         5.157400       0.889775       0.584600      15.629800   \n",
       "50%         7.347750       1.901300       3.396350      17.957950   \n",
       "75%         9.512525       2.949500       6.205800      20.396525   \n",
       "max        16.716500       8.402400      18.281800      27.928800   \n",
       "\n",
       "             var_195        var_196        var_197        var_198  \\\n",
       "count  200000.000000  200000.000000  200000.000000  200000.000000   \n",
       "mean       -0.142088       2.303335       8.908158      15.870720   \n",
       "std         1.429372       5.454369       0.921625       3.010945   \n",
       "min        -5.261000     -14.209600       5.960600       6.299300   \n",
       "25%        -1.170700      -1.946925       8.252800      13.829700   \n",
       "50%        -0.172700       2.408900       8.888200      15.934050   \n",
       "75%         0.829600       6.556725       9.593300      18.064725   \n",
       "max         4.272900      18.321500      12.000400      26.079100   \n",
       "\n",
       "             var_199  \n",
       "count  200000.000000  \n",
       "mean       -3.326537  \n",
       "std        10.438015  \n",
       "min       -38.852800  \n",
       "25%       -11.208475  \n",
       "50%        -2.819550  \n",
       "75%         4.836800  \n",
       "max        28.500700  \n",
       "\n",
       "[8 rows x 201 columns]"
      ]
     },
     "execution_count": 8,
     "metadata": {},
     "output_type": "execute_result"
    }
   ],
   "source": [
    "train.describe()"
   ]
  },
  {
   "cell_type": "markdown",
   "metadata": {},
   "source": [
    "Seperate the dependent and independent variables"
   ]
  },
  {
   "cell_type": "code",
   "execution_count": 4,
   "metadata": {},
   "outputs": [],
   "source": [
    "X = train.iloc[:,2:]\n",
    "y = train['target']"
   ]
  },
  {
   "cell_type": "markdown",
   "metadata": {},
   "source": [
    "Let's check the distribution of the mean of variables, max of variables, and min of variables."
   ]
  },
  {
   "cell_type": "code",
   "execution_count": 35,
   "metadata": {},
   "outputs": [
    {
     "name": "stderr",
     "output_type": "stream",
     "text": [
      "C:\\Users\\dan37\\Anaconda3\\lib\\site-packages\\scipy\\stats\\stats.py:1713: FutureWarning: Using a non-tuple sequence for multidimensional indexing is deprecated; use `arr[tuple(seq)]` instead of `arr[seq]`. In the future this will be interpreted as an array index, `arr[np.array(seq)]`, which will result either in an error or a different result.\n",
      "  return np.add.reduce(sorted[indexer] * weights, axis=axis) / sumval\n"
     ]
    },
    {
     "data": {
      "text/plain": [
       "<matplotlib.axes._subplots.AxesSubplot at 0x18fc99065f8>"
      ]
     },
     "execution_count": 35,
     "metadata": {},
     "output_type": "execute_result"
    },
    {
     "data": {
      "image/png": "[encoded data removed]",
      "text/plain": [
       "<Figure size 864x432 with 1 Axes>"
      ]
     },
     "metadata": {
      "needs_background": "light"
     },
     "output_type": "display_data"
    }
   ],
   "source": [
    "plt.figure(figsize = (12,6))\n",
    "sns.distplot(np.mean(X,axis = 0), bins = 200)"
   ]
  },
  {
   "cell_type": "code",
   "execution_count": 39,
   "metadata": {},
   "outputs": [
    {
     "data": {
      "text/plain": [
       "<matplotlib.axes._subplots.AxesSubplot at 0x18f8d602fd0>"
      ]
     },
     "execution_count": 39,
     "metadata": {},
     "output_type": "execute_result"
    },
    {
     "data": {
      "image/png": "[encoded data removed]",
      "text/plain": [
       "<Figure size 864x432 with 1 Axes>"
      ]
     },
     "metadata": {
      "needs_background": "light"
     },
     "output_type": "display_data"
    }
   ],
   "source": [
    "plt.figure(figsize = (12,6))\n",
    "sns.distplot(np.min(X,axis = 0), bins = 200, color = 'red')"
   ]
  },
  {
   "cell_type": "code",
   "execution_count": 40,
   "metadata": {},
   "outputs": [
    {
     "data": {
      "text/plain": [
       "<matplotlib.axes._subplots.AxesSubplot at 0x18f8d437518>"
      ]
     },
     "execution_count": 40,
     "metadata": {},
     "output_type": "execute_result"
    },
    {
     "data": {
      "image/png": "[encoded data removed]",
      "text/plain": [
       "<Figure size 864x432 with 1 Axes>"
      ]
     },
     "metadata": {
      "needs_background": "light"
     },
     "output_type": "display_data"
    }
   ],
   "source": [
    "plt.figure(figsize = (12,6))\n",
    "sns.distplot(np.max(X,axis = 0), bins = 200, color = 'green')"
   ]
  },
  {
   "cell_type": "markdown",
   "metadata": {},
   "source": [
    "The data seems skewed and not normally distributed.\n",
    "I am going to scaling data."
   ]
  },
  {
   "cell_type": "markdown",
   "metadata": {},
   "source": [
    "Let's check the correlations between variables. If one variable is strongly correlated with another, there is a risk of Multicollinearity, therefore, I might remove one of those variables.\n"
   ]
  },
  {
   "cell_type": "code",
   "execution_count": 31,
   "metadata": {},
   "outputs": [],
   "source": [
    "corr=X.corr()"
   ]
  },
  {
   "cell_type": "code",
   "execution_count": 32,
   "metadata": {},
   "outputs": [
    {
     "data": {
      "text/html": [
       "<div>\n",
       "<style scoped>\n",
       "    .dataframe tbody tr th:only-of-type {\n",
       "        vertical-align: middle;\n",
       "    }\n",
       "\n",
       "    .dataframe tbody tr th {\n",
       "        vertical-align: top;\n",
       "    }\n",
       "\n",
       "    .dataframe thead th {\n",
       "        text-align: right;\n",
       "    }\n",
       "</style>\n",
       "<table border=\"1\" class=\"dataframe\">\n",
       "  <thead>\n",
       "    <tr style=\"text-align: right;\">\n",
       "      <th></th>\n",
       "      <th>var_0</th>\n",
       "      <th>var_1</th>\n",
       "      <th>var_2</th>\n",
       "      <th>var_3</th>\n",
       "      <th>var_4</th>\n",
       "      <th>var_5</th>\n",
       "      <th>var_6</th>\n",
       "      <th>var_7</th>\n",
       "      <th>var_8</th>\n",
       "      <th>var_9</th>\n",
       "      <th>...</th>\n",
       "      <th>var_190</th>\n",
       "      <th>var_191</th>\n",
       "      <th>var_192</th>\n",
       "      <th>var_193</th>\n",
       "      <th>var_194</th>\n",
       "      <th>var_195</th>\n",
       "      <th>var_196</th>\n",
       "      <th>var_197</th>\n",
       "      <th>var_198</th>\n",
       "      <th>var_199</th>\n",
       "    </tr>\n",
       "  </thead>\n",
       "  <tbody>\n",
       "    <tr>\n",
       "      <th>var_0</th>\n",
       "      <td>1.000000</td>\n",
       "      <td>-0.000544</td>\n",
       "      <td>0.006573</td>\n",
       "      <td>0.003801</td>\n",
       "      <td>0.001326</td>\n",
       "      <td>0.003046</td>\n",
       "      <td>0.006983</td>\n",
       "      <td>0.002429</td>\n",
       "      <td>0.004962</td>\n",
       "      <td>-0.002613</td>\n",
       "      <td>...</td>\n",
       "      <td>0.002752</td>\n",
       "      <td>0.000206</td>\n",
       "      <td>-0.005373</td>\n",
       "      <td>0.001616</td>\n",
       "      <td>-0.001514</td>\n",
       "      <td>0.002073</td>\n",
       "      <td>0.004386</td>\n",
       "      <td>-0.000753</td>\n",
       "      <td>-0.005776</td>\n",
       "      <td>0.003850</td>\n",
       "    </tr>\n",
       "    <tr>\n",
       "      <th>var_1</th>\n",
       "      <td>-0.000544</td>\n",
       "      <td>1.000000</td>\n",
       "      <td>0.003980</td>\n",
       "      <td>0.000010</td>\n",
       "      <td>0.000303</td>\n",
       "      <td>-0.000902</td>\n",
       "      <td>0.003258</td>\n",
       "      <td>0.001511</td>\n",
       "      <td>0.004098</td>\n",
       "      <td>-0.000832</td>\n",
       "      <td>...</td>\n",
       "      <td>0.006627</td>\n",
       "      <td>0.003621</td>\n",
       "      <td>-0.002604</td>\n",
       "      <td>0.001153</td>\n",
       "      <td>-0.002557</td>\n",
       "      <td>-0.000785</td>\n",
       "      <td>-0.000377</td>\n",
       "      <td>-0.004157</td>\n",
       "      <td>-0.004861</td>\n",
       "      <td>0.002287</td>\n",
       "    </tr>\n",
       "    <tr>\n",
       "      <th>var_2</th>\n",
       "      <td>0.006573</td>\n",
       "      <td>0.003980</td>\n",
       "      <td>1.000000</td>\n",
       "      <td>0.001001</td>\n",
       "      <td>0.000723</td>\n",
       "      <td>0.001569</td>\n",
       "      <td>0.000883</td>\n",
       "      <td>-0.000991</td>\n",
       "      <td>0.002648</td>\n",
       "      <td>-0.001932</td>\n",
       "      <td>...</td>\n",
       "      <td>0.000197</td>\n",
       "      <td>0.001285</td>\n",
       "      <td>-0.003400</td>\n",
       "      <td>0.000549</td>\n",
       "      <td>0.002104</td>\n",
       "      <td>-0.001070</td>\n",
       "      <td>0.003952</td>\n",
       "      <td>0.001078</td>\n",
       "      <td>-0.000877</td>\n",
       "      <td>0.003855</td>\n",
       "    </tr>\n",
       "    <tr>\n",
       "      <th>var_3</th>\n",
       "      <td>0.003801</td>\n",
       "      <td>0.000010</td>\n",
       "      <td>0.001001</td>\n",
       "      <td>1.000000</td>\n",
       "      <td>-0.000322</td>\n",
       "      <td>0.003253</td>\n",
       "      <td>-0.000774</td>\n",
       "      <td>0.002500</td>\n",
       "      <td>0.003553</td>\n",
       "      <td>-0.000826</td>\n",
       "      <td>...</td>\n",
       "      <td>0.000151</td>\n",
       "      <td>0.002445</td>\n",
       "      <td>-0.001530</td>\n",
       "      <td>-0.001699</td>\n",
       "      <td>-0.001054</td>\n",
       "      <td>0.001206</td>\n",
       "      <td>-0.002800</td>\n",
       "      <td>0.001164</td>\n",
       "      <td>-0.001651</td>\n",
       "      <td>0.000506</td>\n",
       "    </tr>\n",
       "    <tr>\n",
       "      <th>var_4</th>\n",
       "      <td>0.001326</td>\n",
       "      <td>0.000303</td>\n",
       "      <td>0.000723</td>\n",
       "      <td>-0.000322</td>\n",
       "      <td>1.000000</td>\n",
       "      <td>-0.001368</td>\n",
       "      <td>0.000049</td>\n",
       "      <td>0.004549</td>\n",
       "      <td>0.001194</td>\n",
       "      <td>-0.000918</td>\n",
       "      <td>...</td>\n",
       "      <td>0.001514</td>\n",
       "      <td>0.004357</td>\n",
       "      <td>0.003347</td>\n",
       "      <td>0.000813</td>\n",
       "      <td>-0.000068</td>\n",
       "      <td>0.003706</td>\n",
       "      <td>0.000513</td>\n",
       "      <td>-0.000046</td>\n",
       "      <td>-0.001821</td>\n",
       "      <td>-0.000786</td>\n",
       "    </tr>\n",
       "    <tr>\n",
       "      <th>var_5</th>\n",
       "      <td>0.003046</td>\n",
       "      <td>-0.000902</td>\n",
       "      <td>0.001569</td>\n",
       "      <td>0.003253</td>\n",
       "      <td>-0.001368</td>\n",
       "      <td>1.000000</td>\n",
       "      <td>0.002588</td>\n",
       "      <td>-0.000995</td>\n",
       "      <td>0.000147</td>\n",
       "      <td>-0.005279</td>\n",
       "      <td>...</td>\n",
       "      <td>0.001466</td>\n",
       "      <td>-0.000022</td>\n",
       "      <td>0.001116</td>\n",
       "      <td>-0.002237</td>\n",
       "      <td>-0.002543</td>\n",
       "      <td>-0.001274</td>\n",
       "      <td>0.002880</td>\n",
       "      <td>-0.000535</td>\n",
       "      <td>-0.000953</td>\n",
       "      <td>0.002767</td>\n",
       "    </tr>\n",
       "    <tr>\n",
       "      <th>var_6</th>\n",
       "      <td>0.006983</td>\n",
       "      <td>0.003258</td>\n",
       "      <td>0.000883</td>\n",
       "      <td>-0.000774</td>\n",
       "      <td>0.000049</td>\n",
       "      <td>0.002588</td>\n",
       "      <td>1.000000</td>\n",
       "      <td>-0.002548</td>\n",
       "      <td>-0.001188</td>\n",
       "      <td>-0.005697</td>\n",
       "      <td>...</td>\n",
       "      <td>0.000721</td>\n",
       "      <td>0.005604</td>\n",
       "      <td>-0.002563</td>\n",
       "      <td>0.002464</td>\n",
       "      <td>-0.001141</td>\n",
       "      <td>0.001244</td>\n",
       "      <td>0.005378</td>\n",
       "      <td>-0.003565</td>\n",
       "      <td>-0.003025</td>\n",
       "      <td>0.006096</td>\n",
       "    </tr>\n",
       "    <tr>\n",
       "      <th>var_7</th>\n",
       "      <td>0.002429</td>\n",
       "      <td>0.001511</td>\n",
       "      <td>-0.000991</td>\n",
       "      <td>0.002500</td>\n",
       "      <td>0.004549</td>\n",
       "      <td>-0.000995</td>\n",
       "      <td>-0.002548</td>\n",
       "      <td>1.000000</td>\n",
       "      <td>0.000814</td>\n",
       "      <td>0.002885</td>\n",
       "      <td>...</td>\n",
       "      <td>-0.000337</td>\n",
       "      <td>-0.003957</td>\n",
       "      <td>0.001733</td>\n",
       "      <td>0.003219</td>\n",
       "      <td>-0.000270</td>\n",
       "      <td>0.001854</td>\n",
       "      <td>0.001045</td>\n",
       "      <td>0.003466</td>\n",
       "      <td>0.000650</td>\n",
       "      <td>-0.001457</td>\n",
       "    </tr>\n",
       "    <tr>\n",
       "      <th>var_8</th>\n",
       "      <td>0.004962</td>\n",
       "      <td>0.004098</td>\n",
       "      <td>0.002648</td>\n",
       "      <td>0.003553</td>\n",
       "      <td>0.001194</td>\n",
       "      <td>0.000147</td>\n",
       "      <td>-0.001188</td>\n",
       "      <td>0.000814</td>\n",
       "      <td>1.000000</td>\n",
       "      <td>-0.001073</td>\n",
       "      <td>...</td>\n",
       "      <td>0.002923</td>\n",
       "      <td>-0.001151</td>\n",
       "      <td>-0.000429</td>\n",
       "      <td>0.001414</td>\n",
       "      <td>0.001313</td>\n",
       "      <td>0.001396</td>\n",
       "      <td>-0.003242</td>\n",
       "      <td>-0.004583</td>\n",
       "      <td>0.002950</td>\n",
       "      <td>0.000854</td>\n",
       "    </tr>\n",
       "    <tr>\n",
       "      <th>var_9</th>\n",
       "      <td>-0.002613</td>\n",
       "      <td>-0.000832</td>\n",
       "      <td>-0.001932</td>\n",
       "      <td>-0.000826</td>\n",
       "      <td>-0.000918</td>\n",
       "      <td>-0.005279</td>\n",
       "      <td>-0.005697</td>\n",
       "      <td>0.002885</td>\n",
       "      <td>-0.001073</td>\n",
       "      <td>1.000000</td>\n",
       "      <td>...</td>\n",
       "      <td>-0.000871</td>\n",
       "      <td>-0.002371</td>\n",
       "      <td>-0.000014</td>\n",
       "      <td>-0.001407</td>\n",
       "      <td>0.003099</td>\n",
       "      <td>-0.000868</td>\n",
       "      <td>0.000052</td>\n",
       "      <td>0.003701</td>\n",
       "      <td>0.002343</td>\n",
       "      <td>0.001070</td>\n",
       "    </tr>\n",
       "  </tbody>\n",
       "</table>\n",
       "<p>10 rows × 200 columns</p>\n",
       "</div>"
      ],
      "text/plain": [
       "          var_0     var_1     var_2     var_3     var_4     var_5     var_6  \\\n",
       "var_0  1.000000 -0.000544  0.006573  0.003801  0.001326  0.003046  0.006983   \n",
       "var_1 -0.000544  1.000000  0.003980  0.000010  0.000303 -0.000902  0.003258   \n",
       "var_2  0.006573  0.003980  1.000000  0.001001  0.000723  0.001569  0.000883   \n",
       "var_3  0.003801  0.000010  0.001001  1.000000 -0.000322  0.003253 -0.000774   \n",
       "var_4  0.001326  0.000303  0.000723 -0.000322  1.000000 -0.001368  0.000049   \n",
       "var_5  0.003046 -0.000902  0.001569  0.003253 -0.001368  1.000000  0.002588   \n",
       "var_6  0.006983  0.003258  0.000883 -0.000774  0.000049  0.002588  1.000000   \n",
       "var_7  0.002429  0.001511 -0.000991  0.002500  0.004549 -0.000995 -0.002548   \n",
       "var_8  0.004962  0.004098  0.002648  0.003553  0.001194  0.000147 -0.001188   \n",
       "var_9 -0.002613 -0.000832 -0.001932 -0.000826 -0.000918 -0.005279 -0.005697   \n",
       "\n",
       "          var_7     var_8     var_9    ...      var_190   var_191   var_192  \\\n",
       "var_0  0.002429  0.004962 -0.002613    ...     0.002752  0.000206 -0.005373   \n",
       "var_1  0.001511  0.004098 -0.000832    ...     0.006627  0.003621 -0.002604   \n",
       "var_2 -0.000991  0.002648 -0.001932    ...     0.000197  0.001285 -0.003400   \n",
       "var_3  0.002500  0.003553 -0.000826    ...     0.000151  0.002445 -0.001530   \n",
       "var_4  0.004549  0.001194 -0.000918    ...     0.001514  0.004357  0.003347   \n",
       "var_5 -0.000995  0.000147 -0.005279    ...     0.001466 -0.000022  0.001116   \n",
       "var_6 -0.002548 -0.001188 -0.005697    ...     0.000721  0.005604 -0.002563   \n",
       "var_7  1.000000  0.000814  0.002885    ...    -0.000337 -0.003957  0.001733   \n",
       "var_8  0.000814  1.000000 -0.001073    ...     0.002923 -0.001151 -0.000429   \n",
       "var_9  0.002885 -0.001073  1.000000    ...    -0.000871 -0.002371 -0.000014   \n",
       "\n",
       "        var_193   var_194   var_195   var_196   var_197   var_198   var_199  \n",
       "var_0  0.001616 -0.001514  0.002073  0.004386 -0.000753 -0.005776  0.003850  \n",
       "var_1  0.001153 -0.002557 -0.000785 -0.000377 -0.004157 -0.004861  0.002287  \n",
       "var_2  0.000549  0.002104 -0.001070  0.003952  0.001078 -0.000877  0.003855  \n",
       "var_3 -0.001699 -0.001054  0.001206 -0.002800  0.001164 -0.001651  0.000506  \n",
       "var_4  0.000813 -0.000068  0.003706  0.000513 -0.000046 -0.001821 -0.000786  \n",
       "var_5 -0.002237 -0.002543 -0.001274  0.002880 -0.000535 -0.000953  0.002767  \n",
       "var_6  0.002464 -0.001141  0.001244  0.005378 -0.003565 -0.003025  0.006096  \n",
       "var_7  0.003219 -0.000270  0.001854  0.001045  0.003466  0.000650 -0.001457  \n",
       "var_8  0.001414  0.001313  0.001396 -0.003242 -0.004583  0.002950  0.000854  \n",
       "var_9 -0.001407  0.003099 -0.000868  0.000052  0.003701  0.002343  0.001070  \n",
       "\n",
       "[10 rows x 200 columns]"
      ]
     },
     "execution_count": 32,
     "metadata": {},
     "output_type": "execute_result"
    }
   ],
   "source": [
    "corr.head(10)"
   ]
  },
  {
   "cell_type": "markdown",
   "metadata": {},
   "source": [
    "Too many numbers. Visualization will help us."
   ]
  },
  {
   "cell_type": "code",
   "execution_count": 120,
   "metadata": {},
   "outputs": [
    {
     "data": {
      "text/plain": [
       "<matplotlib.axes._subplots.AxesSubplot at 0x18fdf074a58>"
      ]
     },
     "execution_count": 120,
     "metadata": {},
     "output_type": "execute_result"
    },
    {
     "data": {
      "image/png": "[encoded data removed]",
      "text/plain": [
       "<Figure size 1080x1080 with 2 Axes>"
      ]
     },
     "metadata": {
      "needs_background": "light"
     },
     "output_type": "display_data"
    }
   ],
   "source": [
    "plt.figure(figsize=(15,15))\n",
    "sns.heatmap(corr)"
   ]
  },
  {
   "cell_type": "markdown",
   "metadata": {},
   "source": [
    "It seems like none of the variables are strongly correlated with each other. We don't have to remove any variables."
   ]
  },
  {
   "cell_type": "markdown",
   "metadata": {},
   "source": [
    "Now, let's focus on the independent variable. I'll check the distribution of Target"
   ]
  },
  {
   "cell_type": "code",
   "execution_count": 18,
   "metadata": {},
   "outputs": [
    {
     "data": {
      "text/plain": [
       "<matplotlib.axes._subplots.AxesSubplot at 0x18f8e4e7b38>"
      ]
     },
     "execution_count": 18,
     "metadata": {},
     "output_type": "execute_result"
    },
    {
     "data": {
      "image/png": "[encoded data removed]",
      "text/plain": [
       "<Figure size 432x288 with 1 Axes>"
      ]
     },
     "metadata": {
      "needs_background": "light"
     },
     "output_type": "display_data"
    }
   ],
   "source": [
    "sns.countplot(y)"
   ]
  },
  {
   "cell_type": "markdown",
   "metadata": {},
   "source": [
    "We have 8 times more target 0 than target 1. \n",
    "\n",
    "Our goal is to identify the customers who will make purchases in the future, who has target value 1. If we use this data without modifying it, our model might not do a good job of identifying it, no matter what model we use. So before I put data into the model, I want to augment the data which has dependent value 1. It might hurt the result but it sounds better than analyzing with extremely unbalanced data. "
   ]
  },
  {
   "cell_type": "markdown",
   "metadata": {},
   "source": [
    "## Augmentation"
   ]
  },
  {
   "cell_type": "code",
   "execution_count": 7,
   "metadata": {},
   "outputs": [],
   "source": [
    "def aug(x,y,t):\n",
    "    xs,xn = [],[]\n",
    "    for i in range(t):\n",
    "        x1 = x[y==1].copy()\n",
    "        ids = np.arange(x1.shape[0])\n",
    "        for c in range(x1.shape[1]):\n",
    "            np.random.shuffle(ids)\n",
    "            x1[:,c] = x1[ids][:,c]\n",
    "        xs.append(x1)\n",
    "\n",
    "    xs = np.vstack(xs)\n",
    "    ys = np.ones(xs.shape[0])\n",
    "    x = np.vstack([x,xs])\n",
    "    y = np.concatenate([y,ys])\n",
    "    return x,y"
   ]
  },
  {
   "cell_type": "code",
   "execution_count": 21,
   "metadata": {},
   "outputs": [],
   "source": [
    "XX, YY = aug(X.values, y.values, 8)"
   ]
  },
  {
   "cell_type": "code",
   "execution_count": 22,
   "metadata": {},
   "outputs": [
    {
     "data": {
      "text/plain": [
       "<matplotlib.axes._subplots.AxesSubplot at 0x1c6f1d6dda0>"
      ]
     },
     "execution_count": 22,
     "metadata": {},
     "output_type": "execute_result"
    },
    {
     "data": {
      "image/png": "[encoded data removed]",
      "text/plain": [
       "<Figure size 432x288 with 1 Axes>"
      ]
     },
     "metadata": {
      "needs_background": "light"
     },
     "output_type": "display_data"
    }
   ],
   "source": [
    "sns.countplot(YY)"
   ]
  },
  {
   "cell_type": "markdown",
   "metadata": {},
   "source": [
    "Now the number of target 0 and target 1 is about the same."
   ]
  },
  {
   "cell_type": "markdown",
   "metadata": {},
   "source": [
    "## Scaling"
   ]
  },
  {
   "cell_type": "code",
   "execution_count": 26,
   "metadata": {},
   "outputs": [],
   "source": [
    "from sklearn.preprocessing import StandardScaler"
   ]
  },
  {
   "cell_type": "code",
   "execution_count": 27,
   "metadata": {},
   "outputs": [],
   "source": [
    "sc = StandardScaler()\n",
    "X_S = sc.fit_transform(XX)"
   ]
  },
  {
   "cell_type": "markdown",
   "metadata": {},
   "source": [
    "## Training & Cross Validation data split"
   ]
  },
  {
   "cell_type": "code",
   "execution_count": 28,
   "metadata": {},
   "outputs": [],
   "source": [
    "from sklearn.model_selection import train_test_split\n",
    "X_train, X_cv, y_train, y_cv = train_test_split(X_S,YY, test_size = 0.1, random_state = 101)"
   ]
  },
  {
   "cell_type": "markdown",
   "metadata": {},
   "source": [
    "# Modeling"
   ]
  },
  {
   "cell_type": "markdown",
   "metadata": {},
   "source": [
    "Let's go with the simplest model, Logistic Regression. I choose it for my first model to set a benchmark. It is the simplest model, so can't get higher accuracy than other advanced models. Therefore, if the model besides logistic regression got a worse result than LR, we are not going to use that model.\n",
    "\n",
    "After that, I will fit those data to gradient boosting models and Artificial neural network model because I think the dataset is big enough for deep learning, even though my computation power is not enough for that. Therefore, I will keep the models simple."
   ]
  },
  {
   "cell_type": "markdown",
   "metadata": {},
   "source": [
    "### Logistic Regression"
   ]
  },
  {
   "cell_type": "code",
   "execution_count": 92,
   "metadata": {},
   "outputs": [
    {
     "name": "stderr",
     "output_type": "stream",
     "text": [
      "C:\\Users\\dan37\\Anaconda3\\lib\\site-packages\\sklearn\\linear_model\\logistic.py:433: FutureWarning: Default solver will be changed to 'lbfgs' in 0.22. Specify a solver to silence this warning.\n",
      "  FutureWarning)\n"
     ]
    },
    {
     "data": {
      "text/plain": [
       "LogisticRegression(C=1.0, class_weight=None, dual=False, fit_intercept=True,\n",
       "          intercept_scaling=1, max_iter=100, multi_class='warn',\n",
       "          n_jobs=None, penalty='l2', random_state=0, solver='warn',\n",
       "          tol=0.0001, verbose=0, warm_start=False)"
      ]
     },
     "execution_count": 92,
     "metadata": {},
     "output_type": "execute_result"
    }
   ],
   "source": [
    "from sklearn.linear_model import LogisticRegression\n",
    "classifier_lr = LogisticRegression(random_state = 0)\n",
    "classifier_lr.fit(X_train, y_train)"
   ]
  },
  {
   "cell_type": "code",
   "execution_count": 95,
   "metadata": {},
   "outputs": [],
   "source": [
    "y_pred_lr = classifier_lr.predict(X_cv)"
   ]
  },
  {
   "cell_type": "code",
   "execution_count": 103,
   "metadata": {},
   "outputs": [],
   "source": [
    "from sklearn.metrics import confusion_matrix\n",
    "cm_lr = confusion_matrix(y_cv, y_pred_lr)\n",
    "cm_lr_train = confusion_matrix(y_train, classifier_lr.predict(X_train))"
   ]
  },
  {
   "cell_type": "code",
   "execution_count": 104,
   "metadata": {},
   "outputs": [
    {
     "data": {
      "text/plain": [
       "array([[126495,  35456],\n",
       "       [ 36457, 126297]], dtype=int64)"
      ]
     },
     "execution_count": 104,
     "metadata": {},
     "output_type": "execute_result"
    }
   ],
   "source": [
    "cm_lr_train"
   ]
  },
  {
   "cell_type": "code",
   "execution_count": 98,
   "metadata": {},
   "outputs": [
    {
     "data": {
      "text/plain": [
       "array([[14121,  3830],\n",
       "       [ 4138, 13990]], dtype=int64)"
      ]
     },
     "execution_count": 98,
     "metadata": {},
     "output_type": "execute_result"
    }
   ],
   "source": [
    "cm_lr"
   ]
  },
  {
   "cell_type": "code",
   "execution_count": 109,
   "metadata": {},
   "outputs": [
    {
     "name": "stdout",
     "output_type": "stream",
     "text": [
      "we got 77.852820% accuracy on training set, and 77.915131% accuracy on cross validation set\n"
     ]
    }
   ],
   "source": [
    "print('we got %f%% accuracy on training set, and %f%% accuracy on cross validation set' %(100*(1 - (35456+36457)/len(y_train)), 100*(1 - (3830+4138)/len(y_cv))))"
   ]
  },
  {
   "cell_type": "markdown",
   "metadata": {},
   "source": [
    "Logistic regression does not work very well. Let's try another model. If another model gets lower accuracy than 77%, it means the model is not working for this data."
   ]
  },
  {
   "cell_type": "markdown",
   "metadata": {},
   "source": [
    "## Gradient Boosting Models\n",
    "\n",
    "I am going to use XGBoost and LightBGM. I use two different gradient boosting models because I am not sure which one works better for this data. However, I will concentrate more on LightBGM because it works much faster than another and I feel more comfortable about it. \n",
    "\n",
    "### XGBoost"
   ]
  },
  {
   "cell_type": "markdown",
   "metadata": {},
   "source": [
    "XGBoost is basically the ensemble of many decision trees, so it will give us better accuracy than random forest or decision tree model. I believe it also works better than logistic regression, but take much longer time and we need to choose many hyper-parameters. So the result can be varied."
   ]
  },
  {
   "cell_type": "code",
   "execution_count": 111,
   "metadata": {},
   "outputs": [],
   "source": [
    "from xgboost import XGBClassifier\n",
    "classifier = XGBClassifier(max_depth=3,\n",
    "                              n_estimators=999999,\n",
    "                              colsample_bytree=0.3,\n",
    "                              learning_rate=0.02,\n",
    "                              objective='binary:logistic', \n",
    "                              n_jobs=-1)"
   ]
  },
  {
   "cell_type": "code",
   "execution_count": 112,
   "metadata": {},
   "outputs": [
    {
     "data": {
      "text/plain": [
       "XGBClassifier(base_score=0.5, booster='gbtree', colsample_bylevel=1,\n",
       "       colsample_bytree=0.3, gamma=0, learning_rate=0.02, max_delta_step=0,\n",
       "       max_depth=2, min_child_weight=1, missing=None, n_estimators=999999,\n",
       "       n_jobs=-1, nthread=None, objective='binary:logistic',\n",
       "       random_state=0, reg_alpha=0, reg_lambda=1, scale_pos_weight=1,\n",
       "       seed=None, silent=True, subsample=1)"
      ]
     },
     "execution_count": 112,
     "metadata": {},
     "output_type": "execute_result"
    }
   ],
   "source": [
    "classifier.fit(X_train, y_train, \n",
    "              eval_set=[(X_train, y_train)], \n",
    "              verbose=0, early_stopping_rounds=1000)"
   ]
  },
  {
   "cell_type": "code",
   "execution_count": 115,
   "metadata": {},
   "outputs": [],
   "source": [
    "y_pred_xgb = classifier.predict(X_cv)\n",
    "cm_xgb= confusion_matrix(y_cv, y_pred_xgb)\n",
    "cm_xgb_train = confusion_matrix(y_train, classifier.predict(X_train))"
   ]
  },
  {
   "cell_type": "code",
   "execution_count": 116,
   "metadata": {},
   "outputs": [
    {
     "data": {
      "text/plain": [
       "array([[138281,  23670],\n",
       "       [ 26984, 135770]], dtype=int64)"
      ]
     },
     "execution_count": 116,
     "metadata": {},
     "output_type": "execute_result"
    }
   ],
   "source": [
    "print(\"Confusion Matrix for training set\")\n",
    "cm_xgb_train"
   ]
  },
  {
   "cell_type": "code",
   "execution_count": 117,
   "metadata": {},
   "outputs": [
    {
     "data": {
      "text/plain": [
       "array([[15098,  2853],\n",
       "       [ 3314, 14814]], dtype=int64)"
      ]
     },
     "execution_count": 117,
     "metadata": {},
     "output_type": "execute_result"
    }
   ],
   "source": [
    "print(\"Confusion Matrix for cross validation set\")\n",
    "cm_xgb"
   ]
  },
  {
   "cell_type": "code",
   "execution_count": 66,
   "metadata": {},
   "outputs": [
    {
     "name": "stdout",
     "output_type": "stream",
     "text": [
      "we have gotten 84.399994% accuracy on the training set, and 82.906954% accuracy on the cross validation set\n"
     ]
    }
   ],
   "source": [
    "print('we have gotten %f%% accuracy on the training set, and %f%% accuracy on the cross validation set' %(100*(1 - (23670+26984)/len(y_train)), 100*(1 - (3314+2853)/len(y_cv))))"
   ]
  },
  {
   "cell_type": "markdown",
   "metadata": {},
   "source": [
    "Tuning hyper-parameters for better result.\n",
    "First, max_depth and min_child_weight."
   ]
  },
  {
   "cell_type": "code",
   "execution_count": 127,
   "metadata": {},
   "outputs": [],
   "source": [
    "from sklearn.model_selection import GridSearchCV\n",
    "\n",
    "param_test1 = {\n",
    " 'max_depth':range(2,3,10),\n",
    " 'min_child_weight':range(1,2,5)\n",
    "}\n",
    "gsearch1 = GridSearchCV(estimator = XGBClassifier( learning_rate =0.02, n_estimators=999999, max_depth=2,\n",
    " min_child_weight=1, gamma=0, subsample=1, colsample_bytree=0.3,\n",
    " objective= 'binary:logistic',scale_pos_weight=1),                    \n",
    " param_grid = param_test1, scoring='auc',n_jobs=4,iid=False, cv=5)"
   ]
  },
  {
   "cell_type": "code",
   "execution_count": null,
   "metadata": {},
   "outputs": [],
   "source": [
    "gsearch1.fit(X_train,y_train, eval_set=[(X_train, y_train)], verbose=0, early_stopping_rounds=1000)\n"
   ]
  },
  {
   "cell_type": "markdown",
   "metadata": {},
   "source": [
    "We can also tune gamma, subsample,colsample_bytree, and other regularization parameters, but it will take more than 50 hours for my laptop to run that one single line of code, so I won't do that here.\n",
    "\n",
    "As we can see, we can get a better result from XGBoost than the result of Logistic Regression. However, It took too much time. I don't have enough computation power to run the grid search to pick the best parameter. I have run it in another program before I am writing this and accuracy went up to 90% for CV data, but it took 3 days to run that and I couldn't use my laptop during that time.\n",
    "\n",
    "But clearly, XGBoost works well, so I am going to use another, more recent and advanced gradient boosting model to save my time and my laptop. "
   ]
  },
  {
   "cell_type": "markdown",
   "metadata": {},
   "source": [
    "## LightGBM"
   ]
  },
  {
   "cell_type": "code",
   "execution_count": 7,
   "metadata": {},
   "outputs": [],
   "source": [
    "import lightgbm as lgb\n",
    "from sklearn.model_selection import StratifiedKFold, KFold"
   ]
  },
  {
   "cell_type": "code",
   "execution_count": 8,
   "metadata": {},
   "outputs": [],
   "source": [
    "lgb_params = {\n",
    "    \"objective\" : \"binary\",\n",
    "    \"metric\" : \"auc\",\n",
    "    \"boosting\": 'gbdt',\n",
    "    \"max_depth\" : -1,\n",
    "    \"num_leaves\" : 13,\n",
    "    \"learning_rate\" : 0.01,\n",
    "    \"bagging_freq\": 5,\n",
    "    \"bagging_fraction\" : 0.4,\n",
    "    \"feature_fraction\" : 0.05,\n",
    "    \"min_data_in_leaf\": 80,\n",
    "    \"min_sum_heassian_in_leaf\": 10,\n",
    "    \"tree_learner\": \"serial\",\n",
    "    \"boost_from_average\": \"false\",\n",
    "    \"bagging_seed\" : 101,\n",
    "    \"verbosity\" : 1,\n",
    "    \"seed\": 101}\n",
    "skf = StratifiedKFold(n_splits=5, shuffle=True, random_state=101)\n"
   ]
  },
  {
   "cell_type": "markdown",
   "metadata": {},
   "source": [
    "In the last models, I augment data first and then separate to train and cv sets. This time, I am going to use k-fold cross-validation. Therefore, I separate to train and cv first and then augment the data. I am going to use same aug function though. \n",
    "\n",
    "Since I am using 5 -fold cross-validation, I do not augment 'target 1' data 8 times, just double it. LightBGM doesn't require scaling, so I can skip that."
   ]
  },
  {
   "cell_type": "code",
   "execution_count": 84,
   "metadata": {},
   "outputs": [
    {
     "name": "stderr",
     "output_type": "stream",
     "text": [
      "C:\\Users\\dan37\\Anaconda3\\lib\\site-packages\\ipykernel_launcher.py:4: SettingWithCopyWarning: \n",
      "A value is trying to be set on a copy of a slice from a DataFrame.\n",
      "Try using .loc[row_indexer,col_indexer] = value instead\n",
      "\n",
      "See the caveats in the documentation: http://pandas.pydata.org/pandas-docs/stable/indexing.html#indexing-view-versus-copy\n",
      "  after removing the cwd from sys.path.\n"
     ]
    },
    {
     "name": "stdout",
     "output_type": "stream",
     "text": [
      "Training until validation scores don't improve for 3000 rounds.\n",
      "[1000]\ttraining's auc: 0.890809\tvalid_1's auc: 0.883285\n",
      "[2000]\ttraining's auc: 0.900954\tvalid_1's auc: 0.891919\n",
      "[3000]\ttraining's auc: 0.907641\tvalid_1's auc: 0.896658\n",
      "[4000]\ttraining's auc: 0.912385\tvalid_1's auc: 0.899247\n",
      "[5000]\ttraining's auc: 0.916094\tvalid_1's auc: 0.900814\n",
      "[6000]\ttraining's auc: 0.919109\tvalid_1's auc: 0.902005\n",
      "[7000]\ttraining's auc: 0.921722\tvalid_1's auc: 0.902672\n",
      "[8000]\ttraining's auc: 0.924128\tvalid_1's auc: 0.902868\n",
      "[9000]\ttraining's auc: 0.926352\tvalid_1's auc: 0.903149\n",
      "[10000]\ttraining's auc: 0.928502\tvalid_1's auc: 0.90313\n",
      "[11000]\ttraining's auc: 0.930624\tvalid_1's auc: 0.903131\n",
      "[12000]\ttraining's auc: 0.932709\tvalid_1's auc: 0.903086\n",
      "[13000]\ttraining's auc: 0.934714\tvalid_1's auc: 0.903112\n",
      "[14000]\ttraining's auc: 0.936718\tvalid_1's auc: 0.903032\n",
      "Early stopping, best iteration is:\n",
      "[11391]\ttraining's auc: 0.93144\tvalid_1's auc: 0.903184\n",
      "Training until validation scores don't improve for 3000 rounds.\n",
      "[1000]\ttraining's auc: 0.891044\tvalid_1's auc: 0.882775\n",
      "[2000]\ttraining's auc: 0.901012\tvalid_1's auc: 0.891407\n",
      "[3000]\ttraining's auc: 0.907587\tvalid_1's auc: 0.896039\n",
      "[4000]\ttraining's auc: 0.912317\tvalid_1's auc: 0.898798\n",
      "[5000]\ttraining's auc: 0.915993\tvalid_1's auc: 0.900625\n",
      "[6000]\ttraining's auc: 0.919054\tvalid_1's auc: 0.901704\n",
      "[7000]\ttraining's auc: 0.9217\tvalid_1's auc: 0.902323\n",
      "[8000]\ttraining's auc: 0.92409\tvalid_1's auc: 0.902746\n",
      "[9000]\ttraining's auc: 0.926302\tvalid_1's auc: 0.902892\n",
      "[10000]\ttraining's auc: 0.928468\tvalid_1's auc: 0.903048\n",
      "[11000]\ttraining's auc: 0.930558\tvalid_1's auc: 0.903081\n",
      "[12000]\ttraining's auc: 0.93263\tvalid_1's auc: 0.903082\n",
      "[13000]\ttraining's auc: 0.934639\tvalid_1's auc: 0.903061\n",
      "[14000]\ttraining's auc: 0.936638\tvalid_1's auc: 0.902972\n",
      "Early stopping, best iteration is:\n",
      "[11780]\ttraining's auc: 0.932173\tvalid_1's auc: 0.903134\n",
      "Training until validation scores don't improve for 3000 rounds.\n",
      "[1000]\ttraining's auc: 0.890517\tvalid_1's auc: 0.88358\n",
      "[2000]\ttraining's auc: 0.90065\tvalid_1's auc: 0.891939\n",
      "[3000]\ttraining's auc: 0.907329\tvalid_1's auc: 0.896474\n",
      "[4000]\ttraining's auc: 0.91207\tvalid_1's auc: 0.899243\n",
      "[5000]\ttraining's auc: 0.915832\tvalid_1's auc: 0.901181\n",
      "[6000]\ttraining's auc: 0.918843\tvalid_1's auc: 0.902173\n",
      "[7000]\ttraining's auc: 0.921484\tvalid_1's auc: 0.902923\n",
      "[8000]\ttraining's auc: 0.92389\tvalid_1's auc: 0.903241\n",
      "[9000]\ttraining's auc: 0.926135\tvalid_1's auc: 0.903396\n",
      "[10000]\ttraining's auc: 0.928312\tvalid_1's auc: 0.903513\n",
      "[11000]\ttraining's auc: 0.930425\tvalid_1's auc: 0.903594\n",
      "[12000]\ttraining's auc: 0.932498\tvalid_1's auc: 0.903639\n",
      "[13000]\ttraining's auc: 0.934505\tvalid_1's auc: 0.90357\n",
      "[14000]\ttraining's auc: 0.936476\tvalid_1's auc: 0.903484\n",
      "Early stopping, best iteration is:\n",
      "[11798]\ttraining's auc: 0.932091\tvalid_1's auc: 0.903652\n",
      "Training until validation scores don't improve for 3000 rounds.\n",
      "[1000]\ttraining's auc: 0.89052\tvalid_1's auc: 0.883323\n",
      "[2000]\ttraining's auc: 0.900546\tvalid_1's auc: 0.891569\n",
      "[3000]\ttraining's auc: 0.907235\tvalid_1's auc: 0.89627\n",
      "[4000]\ttraining's auc: 0.912008\tvalid_1's auc: 0.899038\n",
      "[5000]\ttraining's auc: 0.915859\tvalid_1's auc: 0.900828\n",
      "[6000]\ttraining's auc: 0.918955\tvalid_1's auc: 0.901919\n",
      "[7000]\ttraining's auc: 0.92158\tvalid_1's auc: 0.902543\n",
      "[8000]\ttraining's auc: 0.923973\tvalid_1's auc: 0.902897\n",
      "[9000]\ttraining's auc: 0.926245\tvalid_1's auc: 0.903018\n",
      "[10000]\ttraining's auc: 0.928379\tvalid_1's auc: 0.903135\n",
      "[11000]\ttraining's auc: 0.93049\tvalid_1's auc: 0.903276\n",
      "[12000]\ttraining's auc: 0.932547\tvalid_1's auc: 0.903324\n",
      "[13000]\ttraining's auc: 0.934551\tvalid_1's auc: 0.90321\n",
      "[14000]\ttraining's auc: 0.936558\tvalid_1's auc: 0.903256\n",
      "Early stopping, best iteration is:\n",
      "[11796]\ttraining's auc: 0.932126\tvalid_1's auc: 0.903391\n",
      "Training until validation scores don't improve for 3000 rounds.\n",
      "[1000]\ttraining's auc: 0.891191\tvalid_1's auc: 0.883366\n",
      "[2000]\ttraining's auc: 0.901056\tvalid_1's auc: 0.892008\n",
      "[3000]\ttraining's auc: 0.907496\tvalid_1's auc: 0.896657\n",
      "[4000]\ttraining's auc: 0.91214\tvalid_1's auc: 0.899404\n",
      "[5000]\ttraining's auc: 0.915837\tvalid_1's auc: 0.90108\n",
      "[6000]\ttraining's auc: 0.918815\tvalid_1's auc: 0.902217\n",
      "[7000]\ttraining's auc: 0.921444\tvalid_1's auc: 0.902876\n",
      "[8000]\ttraining's auc: 0.923793\tvalid_1's auc: 0.903229\n",
      "[9000]\ttraining's auc: 0.926046\tvalid_1's auc: 0.903388\n",
      "[10000]\ttraining's auc: 0.928174\tvalid_1's auc: 0.903441\n",
      "[11000]\ttraining's auc: 0.930303\tvalid_1's auc: 0.903556\n",
      "[12000]\ttraining's auc: 0.932383\tvalid_1's auc: 0.903482\n",
      "[13000]\ttraining's auc: 0.934393\tvalid_1's auc: 0.90341\n",
      "Early stopping, best iteration is:\n",
      "[10982]\ttraining's auc: 0.930269\tvalid_1's auc: 0.903564\n"
     ]
    },
    {
     "name": "stderr",
     "output_type": "stream",
     "text": [
      "C:\\Users\\dan37\\Anaconda3\\lib\\site-packages\\ipykernel_launcher.py:41: SettingWithCopyWarning: \n",
      "A value is trying to be set on a copy of a slice from a DataFrame\n",
      "\n",
      "See the caveats in the documentation: http://pandas.pydata.org/pandas-docs/stable/indexing.html#indexing-view-versus-copy\n",
      "C:\\Users\\dan37\\Anaconda3\\lib\\site-packages\\pandas\\core\\series.py:977: SettingWithCopyWarning: \n",
      "A value is trying to be set on a copy of a slice from a DataFrame\n",
      "\n",
      "See the caveats in the documentation: http://pandas.pydata.org/pandas-docs/stable/indexing.html#indexing-view-versus-copy\n",
      "  self._set_labels(key, value)\n",
      "C:\\Users\\dan37\\Anaconda3\\lib\\site-packages\\IPython\\core\\interactiveshell.py:3267: SettingWithCopyWarning: \n",
      "A value is trying to be set on a copy of a slice from a DataFrame\n",
      "\n",
      "See the caveats in the documentation: http://pandas.pydata.org/pandas-docs/stable/indexing.html#indexing-view-versus-copy\n",
      "  exec(code_obj, self.user_global_ns, self.user_ns)\n",
      "C:\\Users\\dan37\\Anaconda3\\lib\\site-packages\\ipykernel_launcher.py:45: SettingWithCopyWarning: \n",
      "A value is trying to be set on a copy of a slice from a DataFrame.\n",
      "Try using .loc[row_indexer,col_indexer] = value instead\n",
      "\n",
      "See the caveats in the documentation: http://pandas.pydata.org/pandas-docs/stable/indexing.html#indexing-view-versus-copy\n"
     ]
    },
    {
     "name": "stdout",
     "output_type": "stream",
     "text": [
      "Training until validation scores don't improve for 3000 rounds.\n",
      "[1000]\ttraining's auc: 0.892647\tvalid_1's auc: 0.878914\n",
      "[2000]\ttraining's auc: 0.902358\tvalid_1's auc: 0.88742\n",
      "[3000]\ttraining's auc: 0.908783\tvalid_1's auc: 0.892158\n",
      "[4000]\ttraining's auc: 0.913485\tvalid_1's auc: 0.895303\n",
      "[5000]\ttraining's auc: 0.917109\tvalid_1's auc: 0.897172\n",
      "[6000]\ttraining's auc: 0.920098\tvalid_1's auc: 0.89835\n",
      "[7000]\ttraining's auc: 0.922695\tvalid_1's auc: 0.899115\n",
      "[8000]\ttraining's auc: 0.925086\tvalid_1's auc: 0.899463\n",
      "[9000]\ttraining's auc: 0.927306\tvalid_1's auc: 0.899751\n",
      "[10000]\ttraining's auc: 0.929484\tvalid_1's auc: 0.899892\n",
      "[11000]\ttraining's auc: 0.931601\tvalid_1's auc: 0.899965\n",
      "[12000]\ttraining's auc: 0.933692\tvalid_1's auc: 0.89993\n",
      "[13000]\ttraining's auc: 0.935703\tvalid_1's auc: 0.899948\n",
      "[14000]\ttraining's auc: 0.937673\tvalid_1's auc: 0.899899\n",
      "[15000]\ttraining's auc: 0.939595\tvalid_1's auc: 0.899871\n",
      "Early stopping, best iteration is:\n",
      "[12744]\ttraining's auc: 0.935193\tvalid_1's auc: 0.89999\n",
      "Training until validation scores don't improve for 3000 rounds.\n",
      "[1000]\ttraining's auc: 0.891854\tvalid_1's auc: 0.879108\n",
      "[2000]\ttraining's auc: 0.901755\tvalid_1's auc: 0.887685\n",
      "[3000]\ttraining's auc: 0.908152\tvalid_1's auc: 0.892217\n",
      "[4000]\ttraining's auc: 0.91283\tvalid_1's auc: 0.895354\n",
      "[5000]\ttraining's auc: 0.916434\tvalid_1's auc: 0.89731\n",
      "[6000]\ttraining's auc: 0.919372\tvalid_1's auc: 0.898519\n",
      "[7000]\ttraining's auc: 0.921945\tvalid_1's auc: 0.899402\n",
      "[8000]\ttraining's auc: 0.924305\tvalid_1's auc: 0.899864\n",
      "[9000]\ttraining's auc: 0.926515\tvalid_1's auc: 0.900133\n",
      "[10000]\ttraining's auc: 0.928637\tvalid_1's auc: 0.900298\n",
      "[11000]\ttraining's auc: 0.930738\tvalid_1's auc: 0.900354\n",
      "[12000]\ttraining's auc: 0.932799\tvalid_1's auc: 0.900385\n",
      "[13000]\ttraining's auc: 0.934819\tvalid_1's auc: 0.90045\n",
      "[14000]\ttraining's auc: 0.936793\tvalid_1's auc: 0.900493\n",
      "[15000]\ttraining's auc: 0.938738\tvalid_1's auc: 0.900474\n",
      "[16000]\ttraining's auc: 0.940641\tvalid_1's auc: 0.900493\n",
      "[17000]\ttraining's auc: 0.942489\tvalid_1's auc: 0.900435\n",
      "Early stopping, best iteration is:\n",
      "[14410]\ttraining's auc: 0.937607\tvalid_1's auc: 0.900554\n",
      "Training until validation scores don't improve for 3000 rounds.\n",
      "[1000]\ttraining's auc: 0.892008\tvalid_1's auc: 0.8789\n",
      "[2000]\ttraining's auc: 0.901915\tvalid_1's auc: 0.887321\n",
      "[3000]\ttraining's auc: 0.908419\tvalid_1's auc: 0.8921\n",
      "[4000]\ttraining's auc: 0.913114\tvalid_1's auc: 0.895168\n",
      "[5000]\ttraining's auc: 0.91676\tvalid_1's auc: 0.897161\n",
      "[6000]\ttraining's auc: 0.919726\tvalid_1's auc: 0.898319\n",
      "[7000]\ttraining's auc: 0.922275\tvalid_1's auc: 0.899074\n",
      "[8000]\ttraining's auc: 0.924658\tvalid_1's auc: 0.899506\n",
      "[9000]\ttraining's auc: 0.926845\tvalid_1's auc: 0.899766\n",
      "[10000]\ttraining's auc: 0.928985\tvalid_1's auc: 0.899867\n",
      "[11000]\ttraining's auc: 0.931048\tvalid_1's auc: 0.900004\n",
      "[12000]\ttraining's auc: 0.933138\tvalid_1's auc: 0.900058\n",
      "[13000]\ttraining's auc: 0.935155\tvalid_1's auc: 0.900125\n",
      "[14000]\ttraining's auc: 0.937106\tvalid_1's auc: 0.900132\n",
      "[15000]\ttraining's auc: 0.939063\tvalid_1's auc: 0.900038\n",
      "[16000]\ttraining's auc: 0.940942\tvalid_1's auc: 0.900086\n",
      "Early stopping, best iteration is:\n",
      "[13759]\ttraining's auc: 0.93664\tvalid_1's auc: 0.900157\n",
      "Training until validation scores don't improve for 3000 rounds.\n",
      "[1000]\ttraining's auc: 0.892635\tvalid_1's auc: 0.878981\n",
      "[2000]\ttraining's auc: 0.902448\tvalid_1's auc: 0.887298\n",
      "[3000]\ttraining's auc: 0.908916\tvalid_1's auc: 0.892064\n",
      "[4000]\ttraining's auc: 0.913594\tvalid_1's auc: 0.895117\n",
      "[5000]\ttraining's auc: 0.917213\tvalid_1's auc: 0.897129\n",
      "[6000]\ttraining's auc: 0.920163\tvalid_1's auc: 0.898448\n",
      "[7000]\ttraining's auc: 0.922704\tvalid_1's auc: 0.899076\n",
      "[8000]\ttraining's auc: 0.925033\tvalid_1's auc: 0.899416\n",
      "[9000]\ttraining's auc: 0.927238\tvalid_1's auc: 0.899605\n",
      "[10000]\ttraining's auc: 0.929351\tvalid_1's auc: 0.899641\n",
      "[11000]\ttraining's auc: 0.931444\tvalid_1's auc: 0.899653\n",
      "[12000]\ttraining's auc: 0.933487\tvalid_1's auc: 0.899613\n",
      "[13000]\ttraining's auc: 0.935444\tvalid_1's auc: 0.899617\n",
      "Early stopping, best iteration is:\n",
      "[10404]\ttraining's auc: 0.930213\tvalid_1's auc: 0.899721\n",
      "Training until validation scores don't improve for 3000 rounds.\n",
      "[1000]\ttraining's auc: 0.892354\tvalid_1's auc: 0.879137\n",
      "[2000]\ttraining's auc: 0.902185\tvalid_1's auc: 0.887345\n",
      "[3000]\ttraining's auc: 0.908512\tvalid_1's auc: 0.89195\n",
      "[4000]\ttraining's auc: 0.913243\tvalid_1's auc: 0.895038\n",
      "[5000]\ttraining's auc: 0.916853\tvalid_1's auc: 0.896974\n",
      "[6000]\ttraining's auc: 0.919814\tvalid_1's auc: 0.898142\n",
      "[7000]\ttraining's auc: 0.922362\tvalid_1's auc: 0.898975\n",
      "[8000]\ttraining's auc: 0.924716\tvalid_1's auc: 0.899422\n",
      "[9000]\ttraining's auc: 0.926953\tvalid_1's auc: 0.899686\n",
      "[10000]\ttraining's auc: 0.929117\tvalid_1's auc: 0.899865\n",
      "[11000]\ttraining's auc: 0.931218\tvalid_1's auc: 0.899915\n",
      "[12000]\ttraining's auc: 0.933273\tvalid_1's auc: 0.90002\n",
      "[13000]\ttraining's auc: 0.935288\tvalid_1's auc: 0.90008\n",
      "[14000]\ttraining's auc: 0.93728\tvalid_1's auc: 0.899992\n",
      "[15000]\ttraining's auc: 0.939195\tvalid_1's auc: 0.900035\n",
      "[16000]\ttraining's auc: 0.941081\tvalid_1's auc: 0.899944\n",
      "Early stopping, best iteration is:\n",
      "[13130]\ttraining's auc: 0.935541\tvalid_1's auc: 0.900128\n"
     ]
    },
    {
     "name": "stderr",
     "output_type": "stream",
     "text": [
      "C:\\Users\\dan37\\Anaconda3\\lib\\site-packages\\ipykernel_launcher.py:41: SettingWithCopyWarning: \n",
      "A value is trying to be set on a copy of a slice from a DataFrame\n",
      "\n",
      "See the caveats in the documentation: http://pandas.pydata.org/pandas-docs/stable/indexing.html#indexing-view-versus-copy\n",
      "C:\\Users\\dan37\\Anaconda3\\lib\\site-packages\\pandas\\core\\series.py:977: SettingWithCopyWarning: \n",
      "A value is trying to be set on a copy of a slice from a DataFrame\n",
      "\n",
      "See the caveats in the documentation: http://pandas.pydata.org/pandas-docs/stable/indexing.html#indexing-view-versus-copy\n",
      "  self._set_labels(key, value)\n",
      "C:\\Users\\dan37\\Anaconda3\\lib\\site-packages\\IPython\\core\\interactiveshell.py:3267: SettingWithCopyWarning: \n",
      "A value is trying to be set on a copy of a slice from a DataFrame\n",
      "\n",
      "See the caveats in the documentation: http://pandas.pydata.org/pandas-docs/stable/indexing.html#indexing-view-versus-copy\n",
      "  exec(code_obj, self.user_global_ns, self.user_ns)\n",
      "C:\\Users\\dan37\\Anaconda3\\lib\\site-packages\\ipykernel_launcher.py:45: SettingWithCopyWarning: \n",
      "A value is trying to be set on a copy of a slice from a DataFrame.\n",
      "Try using .loc[row_indexer,col_indexer] = value instead\n",
      "\n",
      "See the caveats in the documentation: http://pandas.pydata.org/pandas-docs/stable/indexing.html#indexing-view-versus-copy\n"
     ]
    },
    {
     "name": "stdout",
     "output_type": "stream",
     "text": [
      "Training until validation scores don't improve for 3000 rounds.\n",
      "[1000]\ttraining's auc: 0.891053\tvalid_1's auc: 0.881925\n",
      "[2000]\ttraining's auc: 0.90107\tvalid_1's auc: 0.889835\n",
      "[3000]\ttraining's auc: 0.90778\tvalid_1's auc: 0.894703\n",
      "[4000]\ttraining's auc: 0.912638\tvalid_1's auc: 0.897581\n",
      "[5000]\ttraining's auc: 0.9164\tvalid_1's auc: 0.89931\n",
      "[6000]\ttraining's auc: 0.919392\tvalid_1's auc: 0.900256\n",
      "[7000]\ttraining's auc: 0.921987\tvalid_1's auc: 0.900856\n",
      "[8000]\ttraining's auc: 0.924396\tvalid_1's auc: 0.901107\n",
      "[9000]\ttraining's auc: 0.926638\tvalid_1's auc: 0.901304\n",
      "[10000]\ttraining's auc: 0.928796\tvalid_1's auc: 0.90139\n",
      "[11000]\ttraining's auc: 0.930902\tvalid_1's auc: 0.90145\n",
      "[12000]\ttraining's auc: 0.932953\tvalid_1's auc: 0.901408\n",
      "[13000]\ttraining's auc: 0.93493\tvalid_1's auc: 0.901338\n",
      "Early stopping, best iteration is:\n",
      "[10965]\ttraining's auc: 0.930825\tvalid_1's auc: 0.901476\n",
      "Training until validation scores don't improve for 3000 rounds.\n",
      "[1000]\ttraining's auc: 0.890969\tvalid_1's auc: 0.881645\n",
      "[2000]\ttraining's auc: 0.901187\tvalid_1's auc: 0.889359\n",
      "[3000]\ttraining's auc: 0.907831\tvalid_1's auc: 0.894127\n",
      "[4000]\ttraining's auc: 0.912612\tvalid_1's auc: 0.896998\n",
      "[5000]\ttraining's auc: 0.916328\tvalid_1's auc: 0.898833\n",
      "[6000]\ttraining's auc: 0.919372\tvalid_1's auc: 0.899982\n",
      "[7000]\ttraining's auc: 0.921951\tvalid_1's auc: 0.900607\n",
      "[8000]\ttraining's auc: 0.924338\tvalid_1's auc: 0.901021\n",
      "[9000]\ttraining's auc: 0.926582\tvalid_1's auc: 0.9012\n",
      "[10000]\ttraining's auc: 0.928769\tvalid_1's auc: 0.901266\n",
      "[11000]\ttraining's auc: 0.930836\tvalid_1's auc: 0.901377\n",
      "[12000]\ttraining's auc: 0.93291\tvalid_1's auc: 0.901464\n",
      "[13000]\ttraining's auc: 0.934924\tvalid_1's auc: 0.901529\n",
      "[14000]\ttraining's auc: 0.936894\tvalid_1's auc: 0.901569\n",
      "[15000]\ttraining's auc: 0.938834\tvalid_1's auc: 0.901519\n",
      "[16000]\ttraining's auc: 0.940734\tvalid_1's auc: 0.901458\n",
      "[17000]\ttraining's auc: 0.942558\tvalid_1's auc: 0.901367\n",
      "Early stopping, best iteration is:\n",
      "[14151]\ttraining's auc: 0.9372\tvalid_1's auc: 0.901599\n",
      "Training until validation scores don't improve for 3000 rounds.\n",
      "[1000]\ttraining's auc: 0.891193\tvalid_1's auc: 0.881759\n",
      "[2000]\ttraining's auc: 0.901109\tvalid_1's auc: 0.889285\n",
      "[3000]\ttraining's auc: 0.907676\tvalid_1's auc: 0.894115\n",
      "[4000]\ttraining's auc: 0.912405\tvalid_1's auc: 0.897026\n",
      "[5000]\ttraining's auc: 0.916059\tvalid_1's auc: 0.898769\n",
      "[6000]\ttraining's auc: 0.919026\tvalid_1's auc: 0.899826\n",
      "[7000]\ttraining's auc: 0.921588\tvalid_1's auc: 0.900349\n",
      "[8000]\ttraining's auc: 0.924013\tvalid_1's auc: 0.900782\n",
      "[9000]\ttraining's auc: 0.926212\tvalid_1's auc: 0.900992\n",
      "[10000]\ttraining's auc: 0.928391\tvalid_1's auc: 0.901122\n",
      "[11000]\ttraining's auc: 0.93049\tvalid_1's auc: 0.901183\n",
      "[12000]\ttraining's auc: 0.932571\tvalid_1's auc: 0.901119\n",
      "[13000]\ttraining's auc: 0.934595\tvalid_1's auc: 0.901061\n",
      "Early stopping, best iteration is:\n",
      "[10775]\ttraining's auc: 0.930028\tvalid_1's auc: 0.901206\n",
      "Training until validation scores don't improve for 3000 rounds.\n",
      "[1000]\ttraining's auc: 0.89169\tvalid_1's auc: 0.881628\n",
      "[2000]\ttraining's auc: 0.901886\tvalid_1's auc: 0.889636\n",
      "[3000]\ttraining's auc: 0.908487\tvalid_1's auc: 0.894265\n",
      "[4000]\ttraining's auc: 0.913142\tvalid_1's auc: 0.897005\n",
      "[5000]\ttraining's auc: 0.91683\tvalid_1's auc: 0.898628\n",
      "[6000]\ttraining's auc: 0.91982\tvalid_1's auc: 0.899734\n",
      "[7000]\ttraining's auc: 0.922415\tvalid_1's auc: 0.900336\n",
      "[8000]\ttraining's auc: 0.924771\tvalid_1's auc: 0.900645\n",
      "[9000]\ttraining's auc: 0.926987\tvalid_1's auc: 0.900862\n",
      "[10000]\ttraining's auc: 0.929127\tvalid_1's auc: 0.901002\n",
      "[11000]\ttraining's auc: 0.931236\tvalid_1's auc: 0.901085\n",
      "[12000]\ttraining's auc: 0.933277\tvalid_1's auc: 0.900996\n",
      "[13000]\ttraining's auc: 0.935256\tvalid_1's auc: 0.900938\n",
      "Early stopping, best iteration is:\n",
      "[10695]\ttraining's auc: 0.930601\tvalid_1's auc: 0.901119\n",
      "Training until validation scores don't improve for 3000 rounds.\n",
      "[1000]\ttraining's auc: 0.890481\tvalid_1's auc: 0.881727\n",
      "[2000]\ttraining's auc: 0.900475\tvalid_1's auc: 0.889393\n",
      "[3000]\ttraining's auc: 0.907158\tvalid_1's auc: 0.89423\n",
      "[4000]\ttraining's auc: 0.911974\tvalid_1's auc: 0.897091\n",
      "[5000]\ttraining's auc: 0.915663\tvalid_1's auc: 0.898892\n",
      "[6000]\ttraining's auc: 0.918644\tvalid_1's auc: 0.899997\n",
      "[7000]\ttraining's auc: 0.92126\tvalid_1's auc: 0.900518\n",
      "[8000]\ttraining's auc: 0.923649\tvalid_1's auc: 0.900831\n",
      "[9000]\ttraining's auc: 0.925869\tvalid_1's auc: 0.901068\n",
      "[10000]\ttraining's auc: 0.928073\tvalid_1's auc: 0.90118\n",
      "[11000]\ttraining's auc: 0.930198\tvalid_1's auc: 0.901216\n",
      "[12000]\ttraining's auc: 0.932285\tvalid_1's auc: 0.901249\n",
      "[13000]\ttraining's auc: 0.934283\tvalid_1's auc: 0.901352\n",
      "[14000]\ttraining's auc: 0.936227\tvalid_1's auc: 0.901371\n",
      "[15000]\ttraining's auc: 0.938172\tvalid_1's auc: 0.901346\n",
      "[16000]\ttraining's auc: 0.940071\tvalid_1's auc: 0.901311\n",
      "[17000]\ttraining's auc: 0.94192\tvalid_1's auc: 0.90131\n",
      "Early stopping, best iteration is:\n",
      "[14190]\ttraining's auc: 0.936593\tvalid_1's auc: 0.9014\n"
     ]
    },
    {
     "name": "stderr",
     "output_type": "stream",
     "text": [
      "C:\\Users\\dan37\\Anaconda3\\lib\\site-packages\\ipykernel_launcher.py:41: SettingWithCopyWarning: \n",
      "A value is trying to be set on a copy of a slice from a DataFrame\n",
      "\n",
      "See the caveats in the documentation: http://pandas.pydata.org/pandas-docs/stable/indexing.html#indexing-view-versus-copy\n",
      "C:\\Users\\dan37\\Anaconda3\\lib\\site-packages\\pandas\\core\\series.py:977: SettingWithCopyWarning: \n",
      "A value is trying to be set on a copy of a slice from a DataFrame\n",
      "\n",
      "See the caveats in the documentation: http://pandas.pydata.org/pandas-docs/stable/indexing.html#indexing-view-versus-copy\n",
      "  self._set_labels(key, value)\n",
      "C:\\Users\\dan37\\Anaconda3\\lib\\site-packages\\IPython\\core\\interactiveshell.py:3267: SettingWithCopyWarning: \n",
      "A value is trying to be set on a copy of a slice from a DataFrame\n",
      "\n",
      "See the caveats in the documentation: http://pandas.pydata.org/pandas-docs/stable/indexing.html#indexing-view-versus-copy\n",
      "  exec(code_obj, self.user_global_ns, self.user_ns)\n",
      "C:\\Users\\dan37\\Anaconda3\\lib\\site-packages\\ipykernel_launcher.py:45: SettingWithCopyWarning: \n",
      "A value is trying to be set on a copy of a slice from a DataFrame.\n",
      "Try using .loc[row_indexer,col_indexer] = value instead\n",
      "\n",
      "See the caveats in the documentation: http://pandas.pydata.org/pandas-docs/stable/indexing.html#indexing-view-versus-copy\n"
     ]
    },
    {
     "name": "stdout",
     "output_type": "stream",
     "text": [
      "Training until validation scores don't improve for 3000 rounds.\n",
      "[1000]\ttraining's auc: 0.891853\tvalid_1's auc: 0.883036\n",
      "[2000]\ttraining's auc: 0.901772\tvalid_1's auc: 0.891339\n",
      "[3000]\ttraining's auc: 0.908153\tvalid_1's auc: 0.896061\n",
      "[4000]\ttraining's auc: 0.912863\tvalid_1's auc: 0.899067\n",
      "[5000]\ttraining's auc: 0.916538\tvalid_1's auc: 0.901177\n",
      "[6000]\ttraining's auc: 0.919503\tvalid_1's auc: 0.902294\n",
      "[7000]\ttraining's auc: 0.922101\tvalid_1's auc: 0.902946\n",
      "[8000]\ttraining's auc: 0.924467\tvalid_1's auc: 0.903472\n",
      "[9000]\ttraining's auc: 0.926688\tvalid_1's auc: 0.903722\n",
      "[10000]\ttraining's auc: 0.928897\tvalid_1's auc: 0.903714\n",
      "[11000]\ttraining's auc: 0.93102\tvalid_1's auc: 0.903806\n",
      "[12000]\ttraining's auc: 0.933093\tvalid_1's auc: 0.903736\n",
      "[13000]\ttraining's auc: 0.935095\tvalid_1's auc: 0.903796\n",
      "[14000]\ttraining's auc: 0.937095\tvalid_1's auc: 0.903731\n",
      "Early stopping, best iteration is:\n",
      "[11093]\ttraining's auc: 0.931219\tvalid_1's auc: 0.903827\n",
      "Training until validation scores don't improve for 3000 rounds.\n",
      "[1000]\ttraining's auc: 0.890549\tvalid_1's auc: 0.883587\n",
      "[2000]\ttraining's auc: 0.900294\tvalid_1's auc: 0.891481\n",
      "[3000]\ttraining's auc: 0.906717\tvalid_1's auc: 0.896344\n",
      "[4000]\ttraining's auc: 0.91147\tvalid_1's auc: 0.899609\n",
      "[5000]\ttraining's auc: 0.915165\tvalid_1's auc: 0.90178\n",
      "[6000]\ttraining's auc: 0.918158\tvalid_1's auc: 0.902899\n",
      "[7000]\ttraining's auc: 0.920807\tvalid_1's auc: 0.903576\n",
      "[8000]\ttraining's auc: 0.923239\tvalid_1's auc: 0.904044\n",
      "[9000]\ttraining's auc: 0.925507\tvalid_1's auc: 0.904179\n",
      "[10000]\ttraining's auc: 0.927691\tvalid_1's auc: 0.904266\n",
      "[11000]\ttraining's auc: 0.929829\tvalid_1's auc: 0.904279\n",
      "[12000]\ttraining's auc: 0.931889\tvalid_1's auc: 0.904205\n",
      "[13000]\ttraining's auc: 0.933924\tvalid_1's auc: 0.904057\n",
      "Early stopping, best iteration is:\n",
      "[10485]\ttraining's auc: 0.928738\tvalid_1's auc: 0.904333\n",
      "Training until validation scores don't improve for 3000 rounds.\n",
      "[1000]\ttraining's auc: 0.890293\tvalid_1's auc: 0.88352\n",
      "[2000]\ttraining's auc: 0.900269\tvalid_1's auc: 0.891683\n",
      "[3000]\ttraining's auc: 0.906781\tvalid_1's auc: 0.896526\n",
      "[4000]\ttraining's auc: 0.911556\tvalid_1's auc: 0.899659\n",
      "[5000]\ttraining's auc: 0.915208\tvalid_1's auc: 0.901752\n",
      "[6000]\ttraining's auc: 0.91823\tvalid_1's auc: 0.902858\n",
      "[7000]\ttraining's auc: 0.920886\tvalid_1's auc: 0.90355\n",
      "[8000]\ttraining's auc: 0.923294\tvalid_1's auc: 0.90396\n",
      "[9000]\ttraining's auc: 0.925578\tvalid_1's auc: 0.90404\n",
      "[10000]\ttraining's auc: 0.927778\tvalid_1's auc: 0.904134\n",
      "[11000]\ttraining's auc: 0.929875\tvalid_1's auc: 0.904157\n",
      "[12000]\ttraining's auc: 0.931976\tvalid_1's auc: 0.904192\n",
      "[13000]\ttraining's auc: 0.934018\tvalid_1's auc: 0.904111\n",
      "[14000]\ttraining's auc: 0.935986\tvalid_1's auc: 0.904053\n",
      "Early stopping, best iteration is:\n",
      "[11815]\ttraining's auc: 0.931585\tvalid_1's auc: 0.904215\n",
      "Training until validation scores don't improve for 3000 rounds.\n",
      "[1000]\ttraining's auc: 0.891587\tvalid_1's auc: 0.883546\n",
      "[2000]\ttraining's auc: 0.901423\tvalid_1's auc: 0.891426\n",
      "[3000]\ttraining's auc: 0.907894\tvalid_1's auc: 0.896472\n",
      "[4000]\ttraining's auc: 0.912545\tvalid_1's auc: 0.8996\n",
      "[5000]\ttraining's auc: 0.916223\tvalid_1's auc: 0.901737\n",
      "[6000]\ttraining's auc: 0.919202\tvalid_1's auc: 0.902952\n",
      "[7000]\ttraining's auc: 0.921778\tvalid_1's auc: 0.903737\n",
      "[8000]\ttraining's auc: 0.924216\tvalid_1's auc: 0.904174\n",
      "[9000]\ttraining's auc: 0.926481\tvalid_1's auc: 0.904407\n",
      "[10000]\ttraining's auc: 0.928687\tvalid_1's auc: 0.904415\n",
      "[11000]\ttraining's auc: 0.93077\tvalid_1's auc: 0.90444\n",
      "[12000]\ttraining's auc: 0.932809\tvalid_1's auc: 0.904317\n",
      "Early stopping, best iteration is:\n",
      "[9542]\ttraining's auc: 0.927673\tvalid_1's auc: 0.904498\n",
      "Training until validation scores don't improve for 3000 rounds.\n",
      "[1000]\ttraining's auc: 0.890503\tvalid_1's auc: 0.88348\n",
      "[2000]\ttraining's auc: 0.900434\tvalid_1's auc: 0.891461\n",
      "[3000]\ttraining's auc: 0.906962\tvalid_1's auc: 0.896303\n",
      "[4000]\ttraining's auc: 0.911724\tvalid_1's auc: 0.899341\n",
      "[5000]\ttraining's auc: 0.915345\tvalid_1's auc: 0.901462\n",
      "[6000]\ttraining's auc: 0.918377\tvalid_1's auc: 0.902544\n",
      "[7000]\ttraining's auc: 0.920952\tvalid_1's auc: 0.903055\n",
      "[8000]\ttraining's auc: 0.92336\tvalid_1's auc: 0.90346\n",
      "[9000]\ttraining's auc: 0.925616\tvalid_1's auc: 0.903673\n",
      "[10000]\ttraining's auc: 0.927795\tvalid_1's auc: 0.903772\n",
      "[11000]\ttraining's auc: 0.929906\tvalid_1's auc: 0.903768\n",
      "[12000]\ttraining's auc: 0.93202\tvalid_1's auc: 0.903725\n",
      "[13000]\ttraining's auc: 0.934045\tvalid_1's auc: 0.903614\n",
      "[14000]\ttraining's auc: 0.93602\tvalid_1's auc: 0.903444\n",
      "Early stopping, best iteration is:\n",
      "[11344]\ttraining's auc: 0.930647\tvalid_1's auc: 0.903803\n"
     ]
    },
    {
     "name": "stderr",
     "output_type": "stream",
     "text": [
      "C:\\Users\\dan37\\Anaconda3\\lib\\site-packages\\ipykernel_launcher.py:41: SettingWithCopyWarning: \n",
      "A value is trying to be set on a copy of a slice from a DataFrame\n",
      "\n",
      "See the caveats in the documentation: http://pandas.pydata.org/pandas-docs/stable/indexing.html#indexing-view-versus-copy\n",
      "C:\\Users\\dan37\\Anaconda3\\lib\\site-packages\\pandas\\core\\series.py:977: SettingWithCopyWarning: \n",
      "A value is trying to be set on a copy of a slice from a DataFrame\n",
      "\n",
      "See the caveats in the documentation: http://pandas.pydata.org/pandas-docs/stable/indexing.html#indexing-view-versus-copy\n",
      "  self._set_labels(key, value)\n",
      "C:\\Users\\dan37\\Anaconda3\\lib\\site-packages\\IPython\\core\\interactiveshell.py:3267: SettingWithCopyWarning: \n",
      "A value is trying to be set on a copy of a slice from a DataFrame\n",
      "\n",
      "See the caveats in the documentation: http://pandas.pydata.org/pandas-docs/stable/indexing.html#indexing-view-versus-copy\n",
      "  exec(code_obj, self.user_global_ns, self.user_ns)\n",
      "C:\\Users\\dan37\\Anaconda3\\lib\\site-packages\\ipykernel_launcher.py:45: SettingWithCopyWarning: \n",
      "A value is trying to be set on a copy of a slice from a DataFrame.\n",
      "Try using .loc[row_indexer,col_indexer] = value instead\n",
      "\n",
      "See the caveats in the documentation: http://pandas.pydata.org/pandas-docs/stable/indexing.html#indexing-view-versus-copy\n"
     ]
    },
    {
     "name": "stdout",
     "output_type": "stream",
     "text": [
      "Training until validation scores don't improve for 3000 rounds.\n",
      "[1000]\ttraining's auc: 0.892129\tvalid_1's auc: 0.875298\n",
      "[2000]\ttraining's auc: 0.902302\tvalid_1's auc: 0.884453\n",
      "[3000]\ttraining's auc: 0.90887\tvalid_1's auc: 0.889238\n",
      "[4000]\ttraining's auc: 0.913605\tvalid_1's auc: 0.892392\n",
      "[5000]\ttraining's auc: 0.917245\tvalid_1's auc: 0.894329\n",
      "[6000]\ttraining's auc: 0.920235\tvalid_1's auc: 0.895295\n",
      "[7000]\ttraining's auc: 0.922855\tvalid_1's auc: 0.895806\n",
      "[8000]\ttraining's auc: 0.925237\tvalid_1's auc: 0.896169\n",
      "[9000]\ttraining's auc: 0.927456\tvalid_1's auc: 0.89622\n",
      "[10000]\ttraining's auc: 0.929631\tvalid_1's auc: 0.896251\n",
      "[11000]\ttraining's auc: 0.931698\tvalid_1's auc: 0.896184\n",
      "[12000]\ttraining's auc: 0.933751\tvalid_1's auc: 0.896111\n",
      "Early stopping, best iteration is:\n",
      "[9515]\ttraining's auc: 0.928592\tvalid_1's auc: 0.896277\n",
      "Training until validation scores don't improve for 3000 rounds.\n",
      "[1000]\ttraining's auc: 0.892293\tvalid_1's auc: 0.875711\n",
      "[2000]\ttraining's auc: 0.902319\tvalid_1's auc: 0.884361\n",
      "[3000]\ttraining's auc: 0.908955\tvalid_1's auc: 0.889109\n",
      "[4000]\ttraining's auc: 0.913688\tvalid_1's auc: 0.892152\n",
      "[5000]\ttraining's auc: 0.917452\tvalid_1's auc: 0.894016\n",
      "[6000]\ttraining's auc: 0.920479\tvalid_1's auc: 0.89496\n",
      "[7000]\ttraining's auc: 0.923084\tvalid_1's auc: 0.895517\n",
      "[8000]\ttraining's auc: 0.925488\tvalid_1's auc: 0.895821\n",
      "[9000]\ttraining's auc: 0.927734\tvalid_1's auc: 0.895907\n",
      "[10000]\ttraining's auc: 0.929904\tvalid_1's auc: 0.895874\n",
      "[11000]\ttraining's auc: 0.932013\tvalid_1's auc: 0.895855\n",
      "[12000]\ttraining's auc: 0.934084\tvalid_1's auc: 0.895816\n",
      "Early stopping, best iteration is:\n",
      "[9354]\ttraining's auc: 0.928515\tvalid_1's auc: 0.895931\n",
      "Training until validation scores don't improve for 3000 rounds.\n",
      "[1000]\ttraining's auc: 0.892571\tvalid_1's auc: 0.875706\n",
      "[2000]\ttraining's auc: 0.902548\tvalid_1's auc: 0.883906\n",
      "[3000]\ttraining's auc: 0.909083\tvalid_1's auc: 0.888906\n",
      "[4000]\ttraining's auc: 0.913862\tvalid_1's auc: 0.892145\n",
      "[5000]\ttraining's auc: 0.917498\tvalid_1's auc: 0.894121\n",
      "[6000]\ttraining's auc: 0.920475\tvalid_1's auc: 0.895184\n",
      "[7000]\ttraining's auc: 0.92306\tvalid_1's auc: 0.895716\n",
      "[8000]\ttraining's auc: 0.925457\tvalid_1's auc: 0.896038\n",
      "[9000]\ttraining's auc: 0.927666\tvalid_1's auc: 0.8961\n",
      "[10000]\ttraining's auc: 0.929809\tvalid_1's auc: 0.89611\n",
      "[11000]\ttraining's auc: 0.931872\tvalid_1's auc: 0.896095\n",
      "Early stopping, best iteration is:\n",
      "[8836]\ttraining's auc: 0.927293\tvalid_1's auc: 0.896143\n",
      "Training until validation scores don't improve for 3000 rounds.\n",
      "[1000]\ttraining's auc: 0.892333\tvalid_1's auc: 0.875153\n",
      "[2000]\ttraining's auc: 0.902202\tvalid_1's auc: 0.883811\n",
      "[3000]\ttraining's auc: 0.908817\tvalid_1's auc: 0.888785\n",
      "[4000]\ttraining's auc: 0.913467\tvalid_1's auc: 0.8918\n",
      "[5000]\ttraining's auc: 0.917072\tvalid_1's auc: 0.893814\n",
      "[6000]\ttraining's auc: 0.920054\tvalid_1's auc: 0.894774\n",
      "[7000]\ttraining's auc: 0.922654\tvalid_1's auc: 0.895306\n",
      "[8000]\ttraining's auc: 0.925067\tvalid_1's auc: 0.895574\n",
      "[9000]\ttraining's auc: 0.927317\tvalid_1's auc: 0.895781\n",
      "[10000]\ttraining's auc: 0.929494\tvalid_1's auc: 0.895807\n",
      "[11000]\ttraining's auc: 0.931582\tvalid_1's auc: 0.895714\n",
      "[12000]\ttraining's auc: 0.933652\tvalid_1's auc: 0.895621\n",
      "Early stopping, best iteration is:\n",
      "[9435]\ttraining's auc: 0.928289\tvalid_1's auc: 0.895858\n",
      "Training until validation scores don't improve for 3000 rounds.\n",
      "[1000]\ttraining's auc: 0.892493\tvalid_1's auc: 0.875448\n",
      "[2000]\ttraining's auc: 0.902528\tvalid_1's auc: 0.884416\n",
      "[3000]\ttraining's auc: 0.909019\tvalid_1's auc: 0.889179\n",
      "[4000]\ttraining's auc: 0.913753\tvalid_1's auc: 0.892124\n",
      "[5000]\ttraining's auc: 0.917371\tvalid_1's auc: 0.893915\n",
      "[6000]\ttraining's auc: 0.920329\tvalid_1's auc: 0.894943\n",
      "[7000]\ttraining's auc: 0.922859\tvalid_1's auc: 0.895407\n",
      "[8000]\ttraining's auc: 0.925196\tvalid_1's auc: 0.89576\n",
      "[9000]\ttraining's auc: 0.927423\tvalid_1's auc: 0.895979\n",
      "[10000]\ttraining's auc: 0.92956\tvalid_1's auc: 0.895914\n",
      "[11000]\ttraining's auc: 0.931614\tvalid_1's auc: 0.895755\n",
      "[12000]\ttraining's auc: 0.933697\tvalid_1's auc: 0.895703\n",
      "Early stopping, best iteration is:\n",
      "[9142]\ttraining's auc: 0.927732\tvalid_1's auc: 0.896016\n"
     ]
    },
    {
     "name": "stderr",
     "output_type": "stream",
     "text": [
      "C:\\Users\\dan37\\Anaconda3\\lib\\site-packages\\ipykernel_launcher.py:41: SettingWithCopyWarning: \n",
      "A value is trying to be set on a copy of a slice from a DataFrame\n",
      "\n",
      "See the caveats in the documentation: http://pandas.pydata.org/pandas-docs/stable/indexing.html#indexing-view-versus-copy\n",
      "C:\\Users\\dan37\\Anaconda3\\lib\\site-packages\\pandas\\core\\series.py:977: SettingWithCopyWarning: \n",
      "A value is trying to be set on a copy of a slice from a DataFrame\n",
      "\n",
      "See the caveats in the documentation: http://pandas.pydata.org/pandas-docs/stable/indexing.html#indexing-view-versus-copy\n",
      "  self._set_labels(key, value)\n",
      "C:\\Users\\dan37\\Anaconda3\\lib\\site-packages\\IPython\\core\\interactiveshell.py:3267: SettingWithCopyWarning: \n",
      "A value is trying to be set on a copy of a slice from a DataFrame\n",
      "\n",
      "See the caveats in the documentation: http://pandas.pydata.org/pandas-docs/stable/indexing.html#indexing-view-versus-copy\n",
      "  exec(code_obj, self.user_global_ns, self.user_ns)\n",
      "C:\\Users\\dan37\\Anaconda3\\lib\\site-packages\\ipykernel_launcher.py:45: SettingWithCopyWarning: \n",
      "A value is trying to be set on a copy of a slice from a DataFrame.\n",
      "Try using .loc[row_indexer,col_indexer] = value instead\n",
      "\n",
      "See the caveats in the documentation: http://pandas.pydata.org/pandas-docs/stable/indexing.html#indexing-view-versus-copy\n"
     ]
    }
   ],
   "source": [
    "from sklearn.metrics import roc_auc_score\n",
    "\n",
    "temp = train[['ID_code', 'target']]\n",
    "temp['predict'] = 0\n",
    "predictions = test[['ID_code']]\n",
    "val_aucs = []\n",
    "feature_importance_df = pd.DataFrame()\n",
    "features = [col for col in train.columns if col not in ['target', 'ID_code']]\n",
    "\n",
    "for fold, (trn_idx, val_idx) in enumerate(skf.split(train, train['target'])):\n",
    "    X_train, y_train = train.iloc[trn_idx][features], train.iloc[trn_idx]['target']\n",
    "    X_cv, y_cv = train.iloc[val_idx][features], train.iloc[val_idx]['target']\n",
    "\n",
    "    N = 5\n",
    "    \n",
    "    p_valid,yp = 0,0\n",
    "    for i in range(N):\n",
    "        \n",
    "        X_t, y_t = aug(X_train.values, y_train.values)\n",
    "        X_t = pd.DataFrame(X_t)\n",
    "        X_t = X_t.add_prefix('var_')\n",
    "    \n",
    "        trn_data = lgb.Dataset(X_t, label=y_t)\n",
    "        val_data = lgb.Dataset(X_cv, label=y_cv)\n",
    "        evals_result = {}\n",
    "        lgb_clf = lgb.train(lgb_params,\n",
    "                        trn_data,\n",
    "                        100000,\n",
    "                        valid_sets = [trn_data, val_data],\n",
    "                        early_stopping_rounds=3000,\n",
    "                        verbose_eval = 1000,\n",
    "                        evals_result=evals_result\n",
    "                       )\n",
    "        p_valid += lgb_clf.predict(X_cv)\n",
    "        yp += lgb_clf.predict(X_test)\n",
    "    fold_importance_df = pd.DataFrame()\n",
    "    fold_importance_df[\"feature\"] = features\n",
    "    fold_importance_df[\"importance\"] = lgb_clf.feature_importance()\n",
    "    fold_importance_df[\"fold\"] = fold + 1\n",
    "    feature_importance_df = pd.concat([feature_importance_df, fold_importance_df], axis=0)\n",
    "    temp['predict'][val_idx] = p_valid/N\n",
    "    val_score = roc_auc_score(y_cv, p_valid)\n",
    "    val_aucs.append(val_score)\n",
    "    \n",
    "    predictions['fold{}'.format(fold+1)] = yp/N\n"
   ]
  },
  {
   "cell_type": "code",
   "execution_count": 69,
   "metadata": {},
   "outputs": [
    {
     "name": "stdout",
     "output_type": "stream",
     "text": [
      "The average accuracy of predicting the CV set 5 times are 90.100000%\n"
     ]
    }
   ],
   "source": [
    "print('The average accuracy of predicting the CV set 5 times are %f%%' %90.1)"
   ]
  },
  {
   "cell_type": "markdown",
   "metadata": {},
   "source": [
    "\n",
    "LightBGM works much better than XGBoost! I can also tune the hyper-parameters (actually I have already tunned several parameters) using grid. However, It requires a very high computational cost, which I don't have, so I won't try that. Also, 90.1% of accuracy is a pretty good result. I have submitted this result to Kaggle and I got exactly the same accuracy on the test set.\n",
    "\n",
    "Let's check the importance of the variables, even though it is not necessary."
   ]
  },
  {
   "cell_type": "code",
   "execution_count": 113,
   "metadata": {},
   "outputs": [
    {
     "data": {
      "text/plain": [
       "Text(0.5, 1.0, 'Variable Importance')"
      ]
     },
     "execution_count": 113,
     "metadata": {},
     "output_type": "execute_result"
    },
    {
     "data": {
      "image/png": "[encoded data removed]",
      "text/plain": [
       "<Figure size 864x2592 with 1 Axes>"
      ]
     },
     "metadata": {
      "needs_background": "light"
     },
     "output_type": "display_data"
    }
   ],
   "source": [
    "descend = feature_importance_df[['feature','importance']].groupby('feature').mean().sort_values(by='importance', ascending=False)\n",
    "plt.figure(figsize=(12,36))\n",
    "sns.barplot(x = descend['importance'], y = descend.index)\n",
    "plt.title('Variable Importance')"
   ]
  },
  {
   "cell_type": "markdown",
   "metadata": {},
   "source": [
    "Var_108 is the most important variable to predict, but we don't know what var_108 actually is, so it doesn't mean a lot to me, but it could be to Standard Chartered. "
   ]
  },
  {
   "cell_type": "markdown",
   "metadata": {},
   "source": [
    "## Deep Learning Model"
   ]
  },
  {
   "cell_type": "markdown",
   "metadata": {},
   "source": [
    "### Artificial Neural Networks\n",
    "\n",
    "We have 2,000,000 data and I think it is big enough to deep learning algorithm find some rules in the data. In my opinion, Artificial Neural Networks model is just a big ensemble of Logistic Regression models, but a lot of them. So it has to work better than Logistic Regression. Since we have 200 variables, I am going to use 128 units for each layer. When we use several layers, it has a chance to be overfitted, therefore I am using 10% of dropout. I tried several dropout ratios, but if the ratio is higher than 10%, the model got lower accuracy. I am also using batch normalization. It is similar to scaling input data, but not only scaling the input for the first layer, scaling the input data for every single layer. It might increase the accuracy and definitely speed up the model. \n",
    "\n",
    "I can build a deep learning model in several ways, but the easiest way I know is using Keras. With Keras, we can build the model of a neural network with only a few lines of codes. "
   ]
  },
  {
   "cell_type": "code",
   "execution_count": 3,
   "metadata": {},
   "outputs": [
    {
     "name": "stderr",
     "output_type": "stream",
     "text": [
      "Using TensorFlow backend.\n"
     ]
    }
   ],
   "source": [
    "import keras\n",
    "from keras.models import Sequential\n",
    "from keras.layers import Dense\n",
    "from keras.layers import Dropout\n",
    "from keras.layers import BatchNormalization"
   ]
  },
  {
   "cell_type": "markdown",
   "metadata": {},
   "source": [
    "Data is scaled and divided to train and cv sets, as I did before.\n",
    "\n",
    "Let's start with 4 layers."
   ]
  },
  {
   "cell_type": "code",
   "execution_count": 36,
   "metadata": {},
   "outputs": [],
   "source": [
    "classifier = Sequential()\n",
    "classifier.add(Dense(units = 100, kernel_initializer = 'glorot_uniform', activation = 'relu', input_dim = 200))\n",
    "classifier.add(Dropout(0.1))\n",
    "classifier.add(BatchNormalization())\n",
    "classifier.add(Dense(units = 100, kernel_initializer = 'glorot_uniform', activation = 'relu'))\n",
    "classifier.add(BatchNormalization())\n",
    "classifier.add(Dense(units = 100, kernel_initializer = 'glorot_uniform', activation = 'relu'))\n",
    "classifier.add(BatchNormalization())\n",
    "\n",
    "classifier.add(Dense(units = 1, kernel_initializer = 'glorot_uniform', activation = 'sigmoid'))\n"
   ]
  },
  {
   "cell_type": "code",
   "execution_count": 38,
   "metadata": {},
   "outputs": [
    {
     "name": "stdout",
     "output_type": "stream",
     "text": [
      "Epoch 1/100\n",
      "324705/324705 [==============================] - 18s 56us/step - loss: 0.4586 - acc: 0.7833\n",
      "Epoch 2/100\n",
      "324705/324705 [==============================] - 18s 55us/step - loss: 0.4503 - acc: 0.7876\n",
      "Epoch 3/100\n",
      "324705/324705 [==============================] - 20s 62us/step - loss: 0.4450 - acc: 0.7909\n",
      "Epoch 4/100\n",
      "324705/324705 [==============================] - 18s 54us/step - loss: 0.4403 - acc: 0.7938\n",
      "Epoch 5/100\n",
      "324705/324705 [==============================] - 18s 56us/step - loss: 0.4365 - acc: 0.7964\n",
      "Epoch 6/100\n",
      "324705/324705 [==============================] - 18s 56us/step - loss: 0.4344 - acc: 0.7969\n",
      "Epoch 7/100\n",
      "324705/324705 [==============================] - 18s 55us/step - loss: 0.4313 - acc: 0.7993\n",
      "Epoch 8/100\n",
      "324705/324705 [==============================] - 16s 48us/step - loss: 0.4293 - acc: 0.7996\n",
      "Epoch 9/100\n",
      "324705/324705 [==============================] - 15s 46us/step - loss: 0.4279 - acc: 0.8012\n",
      "Epoch 10/100\n",
      "324705/324705 [==============================] - 17s 53us/step - loss: 0.4259 - acc: 0.8008\n",
      "Epoch 11/100\n",
      "324705/324705 [==============================] - 16s 50us/step - loss: 0.4248 - acc: 0.8028\n",
      "Epoch 12/100\n",
      "324705/324705 [==============================] - 17s 53us/step - loss: 0.4228 - acc: 0.8037\n",
      "Epoch 13/100\n",
      "324705/324705 [==============================] - 19s 59us/step - loss: 0.4221 - acc: 0.8038\n",
      "Epoch 14/100\n",
      "324705/324705 [==============================] - 17s 52us/step - loss: 0.4203 - acc: 0.8054\n",
      "Epoch 15/100\n",
      "324705/324705 [==============================] - 17s 51us/step - loss: 0.4188 - acc: 0.8051\n",
      "Epoch 16/100\n",
      "324705/324705 [==============================] - 16s 50us/step - loss: 0.4182 - acc: 0.8058\n",
      "Epoch 17/100\n",
      "324705/324705 [==============================] - 16s 51us/step - loss: 0.4173 - acc: 0.8060\n",
      "Epoch 18/100\n",
      "324705/324705 [==============================] - 16s 50us/step - loss: 0.4160 - acc: 0.8073\n",
      "Epoch 19/100\n",
      "324705/324705 [==============================] - 16s 51us/step - loss: 0.4142 - acc: 0.8080\n",
      "Epoch 20/100\n",
      "324705/324705 [==============================] - 15s 48us/step - loss: 0.4130 - acc: 0.8086\n",
      "Epoch 21/100\n",
      "324705/324705 [==============================] - 16s 48us/step - loss: 0.4117 - acc: 0.8093\n",
      "Epoch 22/100\n",
      "324705/324705 [==============================] - 15s 47us/step - loss: 0.4110 - acc: 0.8098\n",
      "Epoch 23/100\n",
      "324705/324705 [==============================] - 15s 45us/step - loss: 0.4097 - acc: 0.8108\n",
      "Epoch 24/100\n",
      "324705/324705 [==============================] - 15s 45us/step - loss: 0.4099 - acc: 0.8101\n",
      "Epoch 25/100\n",
      "324705/324705 [==============================] - 16s 49us/step - loss: 0.4089 - acc: 0.8109\n",
      "Epoch 26/100\n",
      "324705/324705 [==============================] - 16s 49us/step - loss: 0.4075 - acc: 0.8120\n",
      "Epoch 27/100\n",
      "324705/324705 [==============================] - 16s 49us/step - loss: 0.4072 - acc: 0.8124\n",
      "Epoch 28/100\n",
      "324705/324705 [==============================] - 15s 46us/step - loss: 0.4064 - acc: 0.8119\n",
      "Epoch 29/100\n",
      "324705/324705 [==============================] - 15s 46us/step - loss: 0.4054 - acc: 0.8131\n",
      "Epoch 30/100\n",
      "324705/324705 [==============================] - 15s 46us/step - loss: 0.4043 - acc: 0.8130\n",
      "Epoch 31/100\n",
      "324705/324705 [==============================] - 15s 47us/step - loss: 0.4043 - acc: 0.8135\n",
      "Epoch 32/100\n",
      "324705/324705 [==============================] - 16s 48us/step - loss: 0.4034 - acc: 0.8145\n",
      "Epoch 33/100\n",
      "324705/324705 [==============================] - 15s 47us/step - loss: 0.4031 - acc: 0.8142\n",
      "Epoch 34/100\n",
      "324705/324705 [==============================] - 16s 48us/step - loss: 0.4019 - acc: 0.8147\n",
      "Epoch 35/100\n",
      "324705/324705 [==============================] - 15s 47us/step - loss: 0.4016 - acc: 0.8157\n",
      "Epoch 36/100\n",
      "324705/324705 [==============================] - 15s 45us/step - loss: 0.4020 - acc: 0.8150\n",
      "Epoch 37/100\n",
      "324705/324705 [==============================] - 15s 46us/step - loss: 0.4005 - acc: 0.8153\n",
      "Epoch 38/100\n",
      "324705/324705 [==============================] - 15s 46us/step - loss: 0.3995 - acc: 0.8162\n",
      "Epoch 39/100\n",
      "324705/324705 [==============================] - 15s 47us/step - loss: 0.3990 - acc: 0.8163\n",
      "Epoch 40/100\n",
      "324705/324705 [==============================] - 16s 50us/step - loss: 0.3987 - acc: 0.8172\n",
      "Epoch 41/100\n",
      "324705/324705 [==============================] - 16s 50us/step - loss: 0.3982 - acc: 0.8173\n",
      "Epoch 42/100\n",
      "324705/324705 [==============================] - 15s 45us/step - loss: 0.3983 - acc: 0.8169\n",
      "Epoch 43/100\n",
      "324705/324705 [==============================] - 16s 48us/step - loss: 0.3975 - acc: 0.8171\n",
      "Epoch 44/100\n",
      "324705/324705 [==============================] - 15s 48us/step - loss: 0.3966 - acc: 0.8182\n",
      "Epoch 45/100\n",
      "324705/324705 [==============================] - 16s 49us/step - loss: 0.3965 - acc: 0.8180\n",
      "Epoch 46/100\n",
      "324705/324705 [==============================] - 15s 47us/step - loss: 0.3957 - acc: 0.8181\n",
      "Epoch 47/100\n",
      "324705/324705 [==============================] - 16s 49us/step - loss: 0.3947 - acc: 0.8189\n",
      "Epoch 48/100\n",
      "324705/324705 [==============================] - 15s 47us/step - loss: 0.3947 - acc: 0.8183\n",
      "Epoch 49/100\n",
      "324705/324705 [==============================] - 15s 47us/step - loss: 0.3944 - acc: 0.8183\n",
      "Epoch 50/100\n",
      "324705/324705 [==============================] - 15s 46us/step - loss: 0.3948 - acc: 0.8190\n",
      "Epoch 51/100\n",
      "324705/324705 [==============================] - 16s 48us/step - loss: 0.3938 - acc: 0.8194\n",
      "Epoch 52/100\n",
      "324705/324705 [==============================] - 16s 50us/step - loss: 0.3938 - acc: 0.8192\n",
      "Epoch 53/100\n",
      "324705/324705 [==============================] - 16s 49us/step - loss: 0.3929 - acc: 0.8198\n",
      "Epoch 54/100\n",
      "324705/324705 [==============================] - 21s 63us/step - loss: 0.3930 - acc: 0.8199\n",
      "Epoch 55/100\n",
      "324705/324705 [==============================] - 19s 59us/step - loss: 0.3922 - acc: 0.8199\n",
      "Epoch 56/100\n",
      "324705/324705 [==============================] - 17s 52us/step - loss: 0.3928 - acc: 0.8199\n",
      "Epoch 57/100\n",
      "324705/324705 [==============================] - 17s 53us/step - loss: 0.3915 - acc: 0.8205\n",
      "Epoch 58/100\n",
      "324705/324705 [==============================] - 16s 48us/step - loss: 0.3918 - acc: 0.8202\n",
      "Epoch 59/100\n",
      "324705/324705 [==============================] - 16s 49us/step - loss: 0.3909 - acc: 0.8211\n",
      "Epoch 60/100\n",
      "324705/324705 [==============================] - 15s 46us/step - loss: 0.3911 - acc: 0.8208\n",
      "Epoch 61/100\n",
      "324705/324705 [==============================] - 15s 47us/step - loss: 0.3912 - acc: 0.8202\n",
      "Epoch 62/100\n",
      "324705/324705 [==============================] - 15s 47us/step - loss: 0.3903 - acc: 0.8213\n",
      "Epoch 63/100\n",
      "324705/324705 [==============================] - 15s 48us/step - loss: 0.3891 - acc: 0.8218\n",
      "Epoch 64/100\n",
      "324705/324705 [==============================] - 15s 47us/step - loss: 0.3901 - acc: 0.8214\n",
      "Epoch 65/100\n",
      "324705/324705 [==============================] - 15s 48us/step - loss: 0.3896 - acc: 0.8217\n",
      "Epoch 66/100\n",
      "324705/324705 [==============================] - 16s 48us/step - loss: 0.3890 - acc: 0.8220\n",
      "Epoch 67/100\n",
      "324705/324705 [==============================] - 17s 51us/step - loss: 0.3882 - acc: 0.8222\n",
      "Epoch 68/100\n",
      "324705/324705 [==============================] - 18s 56us/step - loss: 0.3887 - acc: 0.8222\n",
      "Epoch 69/100\n",
      "324705/324705 [==============================] - 17s 54us/step - loss: 0.3883 - acc: 0.8222\n",
      "Epoch 70/100\n",
      "324705/324705 [==============================] - 16s 51us/step - loss: 0.3885 - acc: 0.8223\n",
      "Epoch 71/100\n",
      "324705/324705 [==============================] - 17s 53us/step - loss: 0.3880 - acc: 0.8227\n",
      "Epoch 72/100\n",
      "324705/324705 [==============================] - 17s 52us/step - loss: 0.3880 - acc: 0.8218\n",
      "Epoch 73/100\n",
      "324705/324705 [==============================] - 17s 51us/step - loss: 0.3869 - acc: 0.8223\n",
      "Epoch 74/100\n",
      "324705/324705 [==============================] - 18s 55us/step - loss: 0.3885 - acc: 0.8222\n",
      "Epoch 75/100\n",
      "324705/324705 [==============================] - 19s 58us/step - loss: 0.3863 - acc: 0.8228\n",
      "Epoch 76/100\n",
      "324705/324705 [==============================] - 20s 63us/step - loss: 0.3874 - acc: 0.8227\n",
      "Epoch 77/100\n",
      "324705/324705 [==============================] - 22s 69us/step - loss: 0.3863 - acc: 0.8226\n",
      "Epoch 78/100\n",
      "324705/324705 [==============================] - 21s 64us/step - loss: 0.3855 - acc: 0.8235\n",
      "Epoch 79/100\n"
     ]
    },
    {
     "name": "stdout",
     "output_type": "stream",
     "text": [
      "324705/324705 [==============================] - 18s 56us/step - loss: 0.3859 - acc: 0.8233\n",
      "Epoch 80/100\n",
      "324705/324705 [==============================] - 17s 54us/step - loss: 0.3851 - acc: 0.8241\n",
      "Epoch 81/100\n",
      "324705/324705 [==============================] - 16s 50us/step - loss: 0.3854 - acc: 0.8243\n",
      "Epoch 82/100\n",
      "324705/324705 [==============================] - 18s 54us/step - loss: 0.3849 - acc: 0.8243\n",
      "Epoch 83/100\n",
      "324705/324705 [==============================] - 18s 55us/step - loss: 0.3844 - acc: 0.8247\n",
      "Epoch 84/100\n",
      "324705/324705 [==============================] - 18s 54us/step - loss: 0.3851 - acc: 0.8240\n",
      "Epoch 85/100\n",
      "324705/324705 [==============================] - 18s 57us/step - loss: 0.3846 - acc: 0.8243\n",
      "Epoch 86/100\n",
      "324705/324705 [==============================] - 18s 54us/step - loss: 0.3843 - acc: 0.8241\n",
      "Epoch 87/100\n",
      "324705/324705 [==============================] - 15s 47us/step - loss: 0.3838 - acc: 0.8251\n",
      "Epoch 88/100\n",
      "324705/324705 [==============================] - 15s 48us/step - loss: 0.3842 - acc: 0.8255\n",
      "Epoch 89/100\n",
      "324705/324705 [==============================] - 16s 50us/step - loss: 0.3837 - acc: 0.8245\n",
      "Epoch 90/100\n",
      "324705/324705 [==============================] - 15s 47us/step - loss: 0.3836 - acc: 0.8247\n",
      "Epoch 91/100\n",
      "324705/324705 [==============================] - 16s 49us/step - loss: 0.3826 - acc: 0.8248\n",
      "Epoch 92/100\n",
      "324705/324705 [==============================] - 17s 52us/step - loss: 0.3836 - acc: 0.8246\n",
      "Epoch 93/100\n",
      "324705/324705 [==============================] - 16s 50us/step - loss: 0.3829 - acc: 0.8251\n",
      "Epoch 94/100\n",
      "324705/324705 [==============================] - 16s 48us/step - loss: 0.3834 - acc: 0.8254\n",
      "Epoch 95/100\n",
      "324705/324705 [==============================] - 16s 50us/step - loss: 0.3819 - acc: 0.8256\n",
      "Epoch 96/100\n",
      "324705/324705 [==============================] - 16s 48us/step - loss: 0.3829 - acc: 0.8254\n",
      "Epoch 97/100\n",
      "324705/324705 [==============================] - 16s 50us/step - loss: 0.3820 - acc: 0.8264\n",
      "Epoch 98/100\n",
      "324705/324705 [==============================] - 17s 53us/step - loss: 0.3822 - acc: 0.8255\n",
      "Epoch 99/100\n",
      "324705/324705 [==============================] - 17s 51us/step - loss: 0.3816 - acc: 0.8257\n",
      "Epoch 100/100\n",
      "324705/324705 [==============================] - 16s 50us/step - loss: 0.3808 - acc: 0.8264\n"
     ]
    },
    {
     "data": {
      "text/plain": [
       "<keras.callbacks.History at 0x1c6aed4f2e8>"
      ]
     },
     "execution_count": 38,
     "metadata": {},
     "output_type": "execute_result"
    }
   ],
   "source": [
    "classifier.compile(optimizer = 'adam', loss = 'binary_crossentropy', metrics = ['accuracy'])\n",
    "classifier.fit(X_train, y_train, batch_size = 64, epochs = 100)"
   ]
  },
  {
   "cell_type": "code",
   "execution_count": 40,
   "metadata": {},
   "outputs": [],
   "source": [
    "y_pred = classifier.predict(X_cv)\n",
    "y_pred = (y_pred > 0.5)\n",
    "\n",
    "from sklearn.metrics import confusion_matrix\n",
    "cm_nn = confusion_matrix(y_cv, y_pred)"
   ]
  },
  {
   "cell_type": "code",
   "execution_count": 41,
   "metadata": {},
   "outputs": [
    {
     "data": {
      "text/plain": [
       "array([[13423,  4455],\n",
       "       [ 3833, 14368]], dtype=int64)"
      ]
     },
     "execution_count": 41,
     "metadata": {},
     "output_type": "execute_result"
    }
   ],
   "source": [
    "cm_nn"
   ]
  },
  {
   "cell_type": "code",
   "execution_count": 55,
   "metadata": {},
   "outputs": [
    {
     "name": "stdout",
     "output_type": "stream",
     "text": [
      "The accuracy of NN model on cross validation set is 77.028188%\n"
     ]
    }
   ],
   "source": [
    "print('The accuracy of NN model on cross validation set is %f%%' %((1-(4455+3833)/len(y_cv))*100))"
   ]
  },
  {
   "cell_type": "markdown",
   "metadata": {},
   "source": [
    "The model looks fine. Loss function keeps decreasing and accuracy slightly increasing. It could get a better result if I tune some hyper-parameter.\n",
    "\n",
    "However, It took more than an hour to run the codes for NN but accuracy on the cross-validation set is similar to Logistic Regression. I should change my opinion. This data might not big enough for deep learning algorithms or this data is not a good fit for NN. Either way, there is no point to keep improving model. I already got a model with 90% accuracy. I would rather improve that model instead of spending more time on this model. However, I want to modify some of the models.\n",
    "\n",
    "First, I use both dropout and Batch Norm, even though I only use dropout in the first layer. Therefore I remove some of Batch Norm.\n",
    "After I remove the batch norm, the model doesn't improve. So I decrease the batch size to 32."
   ]
  },
  {
   "cell_type": "code",
   "execution_count": 60,
   "metadata": {},
   "outputs": [],
   "source": [
    "classifier = Sequential()\n",
    "classifier.add(Dense(units = 100, kernel_initializer = 'glorot_uniform', activation = 'relu', input_dim = 200))\n",
    "classifier.add(Dropout(0.1))\n",
    "\n",
    "classifier.add(Dense(units = 100, kernel_initializer = 'glorot_uniform', activation = 'relu'))\n",
    "classifier.add(Dense(units = 100, kernel_initializer = 'glorot_uniform', activation = 'relu'))\n",
    "\n",
    "classifier.add(Dense(units = 1, kernel_initializer = 'glorot_uniform', activation = 'sigmoid'))\n"
   ]
  },
  {
   "cell_type": "code",
   "execution_count": 62,
   "metadata": {},
   "outputs": [
    {
     "name": "stdout",
     "output_type": "stream",
     "text": [
      "Epoch 1/60\n",
      "324705/324705 [==============================] - 21s 64us/step - loss: 0.4199 - acc: 0.8055\n",
      "Epoch 2/60\n",
      "324705/324705 [==============================] - 21s 64us/step - loss: 0.4190 - acc: 0.8058\n",
      "Epoch 3/60\n",
      "324705/324705 [==============================] - 21s 64us/step - loss: 0.4175 - acc: 0.8071\n",
      "Epoch 4/60\n",
      "324705/324705 [==============================] - 20s 62us/step - loss: 0.4156 - acc: 0.8082\n",
      "Epoch 5/60\n",
      "324705/324705 [==============================] - 19s 58us/step - loss: 0.4137 - acc: 0.8086\n",
      "Epoch 6/60\n",
      "324705/324705 [==============================] - 19s 58us/step - loss: 0.4112 - acc: 0.8103\n",
      "Epoch 7/60\n",
      "324705/324705 [==============================] - 21s 64us/step - loss: 0.4100 - acc: 0.8109\n",
      "Epoch 8/60\n",
      "324705/324705 [==============================] - 22s 69us/step - loss: 0.4080 - acc: 0.8118\n",
      "Epoch 9/60\n",
      "324705/324705 [==============================] - 22s 68us/step - loss: 0.4070 - acc: 0.8119\n",
      "Epoch 10/60\n",
      "324705/324705 [==============================] - 22s 69us/step - loss: 0.4054 - acc: 0.8128\n",
      "Epoch 11/60\n",
      "324705/324705 [==============================] - 22s 67us/step - loss: 0.4045 - acc: 0.8134\n",
      "Epoch 12/60\n",
      "324705/324705 [==============================] - 23s 70us/step - loss: 0.4034 - acc: 0.8139\n",
      "Epoch 13/60\n",
      "324705/324705 [==============================] - 22s 67us/step - loss: 0.4014 - acc: 0.8156\n",
      "Epoch 14/60\n",
      "324705/324705 [==============================] - 22s 67us/step - loss: 0.4004 - acc: 0.8158\n",
      "Epoch 15/60\n",
      "324705/324705 [==============================] - 22s 67us/step - loss: 0.3992 - acc: 0.8171\n",
      "Epoch 16/60\n",
      "324705/324705 [==============================] - 25s 76us/step - loss: 0.3981 - acc: 0.8169\n",
      "Epoch 17/60\n",
      "324705/324705 [==============================] - 20s 62us/step - loss: 0.3965 - acc: 0.8183\n",
      "Epoch 18/60\n",
      "324705/324705 [==============================] - 22s 68us/step - loss: 0.3968 - acc: 0.8182\n",
      "Epoch 19/60\n",
      "324705/324705 [==============================] - 25s 76us/step - loss: 0.3949 - acc: 0.8188\n",
      "Epoch 20/60\n",
      "324705/324705 [==============================] - 23s 70us/step - loss: 0.3952 - acc: 0.8188\n",
      "Epoch 21/60\n",
      "324705/324705 [==============================] - 23s 70us/step - loss: 0.3939 - acc: 0.8192\n",
      "Epoch 22/60\n",
      "324705/324705 [==============================] - 23s 70us/step - loss: 0.3933 - acc: 0.8199\n",
      "Epoch 23/60\n",
      "324705/324705 [==============================] - 21s 65us/step - loss: 0.3928 - acc: 0.8203\n",
      "Epoch 24/60\n",
      "324705/324705 [==============================] - 22s 68us/step - loss: 0.3924 - acc: 0.8200\n",
      "Epoch 25/60\n",
      "324705/324705 [==============================] - 21s 63us/step - loss: 0.3916 - acc: 0.8205\n",
      "Epoch 26/60\n",
      "324705/324705 [==============================] - 21s 65us/step - loss: 0.3909 - acc: 0.8215\n",
      "Epoch 27/60\n",
      "324705/324705 [==============================] - 23s 72us/step - loss: 0.3905 - acc: 0.8217\n",
      "Epoch 28/60\n",
      "324705/324705 [==============================] - 21s 66us/step - loss: 0.3896 - acc: 0.8222\n",
      "Epoch 29/60\n",
      "324705/324705 [==============================] - 22s 68us/step - loss: 0.3891 - acc: 0.8224\n",
      "Epoch 30/60\n",
      "324705/324705 [==============================] - 20s 62us/step - loss: 0.3889 - acc: 0.8227\n",
      "Epoch 31/60\n",
      "324705/324705 [==============================] - 22s 68us/step - loss: 0.3874 - acc: 0.8228\n",
      "Epoch 32/60\n",
      "324705/324705 [==============================] - 23s 70us/step - loss: 0.3876 - acc: 0.8232\n",
      "Epoch 33/60\n",
      "324705/324705 [==============================] - 23s 70us/step - loss: 0.3862 - acc: 0.8239\n",
      "Epoch 34/60\n",
      "324705/324705 [==============================] - 22s 67us/step - loss: 0.3867 - acc: 0.8233\n",
      "Epoch 35/60\n",
      "324705/324705 [==============================] - 22s 67us/step - loss: 0.3859 - acc: 0.8239\n",
      "Epoch 36/60\n",
      "324705/324705 [==============================] - 21s 64us/step - loss: 0.3852 - acc: 0.8242\n",
      "Epoch 37/60\n",
      "324705/324705 [==============================] - 20s 63us/step - loss: 0.3842 - acc: 0.8244\n",
      "Epoch 38/60\n",
      "324705/324705 [==============================] - 21s 64us/step - loss: 0.3849 - acc: 0.8236\n",
      "Epoch 39/60\n",
      "324705/324705 [==============================] - 20s 62us/step - loss: 0.3835 - acc: 0.8250\n",
      "Epoch 40/60\n",
      "324705/324705 [==============================] - 20s 62us/step - loss: 0.3837 - acc: 0.8256\n",
      "Epoch 41/60\n",
      "324705/324705 [==============================] - 20s 63us/step - loss: 0.3833 - acc: 0.8254\n",
      "Epoch 42/60\n",
      "324705/324705 [==============================] - 20s 63us/step - loss: 0.3827 - acc: 0.8264\n",
      "Epoch 43/60\n",
      "324705/324705 [==============================] - 20s 62us/step - loss: 0.3823 - acc: 0.8252\n",
      "Epoch 44/60\n",
      "324705/324705 [==============================] - 20s 63us/step - loss: 0.3822 - acc: 0.8259\n",
      "Epoch 45/60\n",
      "324705/324705 [==============================] - 21s 63us/step - loss: 0.3817 - acc: 0.8259\n",
      "Epoch 46/60\n",
      "324705/324705 [==============================] - 21s 64us/step - loss: 0.3810 - acc: 0.8265\n",
      "Epoch 47/60\n",
      "324705/324705 [==============================] - 20s 62us/step - loss: 0.3809 - acc: 0.8272\n",
      "Epoch 48/60\n",
      "324705/324705 [==============================] - 20s 62us/step - loss: 0.3810 - acc: 0.8260\n",
      "Epoch 49/60\n",
      "324705/324705 [==============================] - 20s 62us/step - loss: 0.3802 - acc: 0.8274\n",
      "Epoch 50/60\n",
      "324705/324705 [==============================] - 20s 63us/step - loss: 0.3798 - acc: 0.8266\n",
      "Epoch 51/60\n",
      "324705/324705 [==============================] - 20s 63us/step - loss: 0.3794 - acc: 0.8272\n",
      "Epoch 52/60\n",
      "324705/324705 [==============================] - 21s 64us/step - loss: 0.3791 - acc: 0.8275\n",
      "Epoch 53/60\n",
      "324705/324705 [==============================] - 22s 69us/step - loss: 0.3793 - acc: 0.8270\n",
      "Epoch 54/60\n",
      "324705/324705 [==============================] - 22s 68us/step - loss: 0.3790 - acc: 0.8279\n",
      "Epoch 55/60\n",
      "324705/324705 [==============================] - 22s 69us/step - loss: 0.3788 - acc: 0.8278\n",
      "Epoch 56/60\n",
      "324705/324705 [==============================] - 24s 74us/step - loss: 0.3786 - acc: 0.8277\n",
      "Epoch 57/60\n",
      "324705/324705 [==============================] - 23s 70us/step - loss: 0.3785 - acc: 0.8283\n",
      "Epoch 58/60\n",
      "324705/324705 [==============================] - 23s 71us/step - loss: 0.3785 - acc: 0.8281\n",
      "Epoch 59/60\n",
      "324705/324705 [==============================] - 24s 75us/step - loss: 0.3783 - acc: 0.8280\n",
      "Epoch 60/60\n",
      "324705/324705 [==============================] - 26s 79us/step - loss: 0.3774 - acc: 0.8289\n"
     ]
    },
    {
     "data": {
      "text/plain": [
       "<keras.callbacks.History at 0x1c6afe96898>"
      ]
     },
     "execution_count": 62,
     "metadata": {},
     "output_type": "execute_result"
    }
   ],
   "source": [
    "classifier.compile(optimizer = 'adam', loss = 'binary_crossentropy', metrics = ['accuracy'])\n",
    "classifier.fit(X_train, y_train, batch_size = 32, epochs = 60)"
   ]
  },
  {
   "cell_type": "code",
   "execution_count": 65,
   "metadata": {},
   "outputs": [
    {
     "data": {
      "text/plain": [
       "array([[14126,  3752],\n",
       "       [ 4565, 13636]], dtype=int64)"
      ]
     },
     "execution_count": 65,
     "metadata": {},
     "output_type": "execute_result"
    }
   ],
   "source": [
    "y_pred = classifier.predict(X_cv)\n",
    "y_pred = (y_pred > 0.5)\n",
    "\n",
    "cm_nn_2 = confusion_matrix(y_cv, y_pred)\n",
    "cm_nn_2"
   ]
  },
  {
   "cell_type": "markdown",
   "metadata": {},
   "source": [
    "Still, accuracy doesn't go up. NN might not a good model for this dataset.\n",
    "The model could be improved if I use K-fold or convolutional neural network, but I am not going to try that here."
   ]
  },
  {
   "cell_type": "markdown",
   "metadata": {},
   "source": [
    "## Conclusion"
   ]
  },
  {
   "cell_type": "markdown",
   "metadata": {},
   "source": [
    "I have tried several models to indicate which customers will make a specific transaction in the future. First, I've worked with logistic regression to set the rock bottom point. After that, I used XGBoost and LightGBM. I only use K-fold on LightGBM since it is much faster. I might use it to XGBoost if I have more computation power. LightGBM works much better than XGBoost, however, if I tune hyper-parameters, the result could be changed. After that, since I wanted to use at least one deep learning model, I choose NN, the most simple deep learning model. I could have used CNN but I think it doesn't match with the data. I was planning to use K-fold on Neural Network model, but after I ran a simple model to test, I decided not to do that since the accuracy was near my bottom point.\n",
    "LightBGM works very well, it has slightly higher accuracy than 90%. However, I cannot say it is an extremely good result. Even though I augmented data, before that, the ratio data with target 0 and 1 is 8:1. Therefore, if there is a model that says every user is not going to make a specific transaction, it will have 88.8% accuracy on the 'before the augmentation training set'. Of course, it will have 50% accuracy on the augmented set. \n",
    "\n",
    "The model can be improved if I use a grid search which helps me to get better hyper-parameters or pick higher k for K-fold.\n",
    "\n",
    "Thank you for reading my portfolio."
   ]
  },
  {
   "cell_type": "code",
   "execution_count": null,
   "metadata": {},
   "outputs": [],
   "source": []
  }
 ],
 "metadata": {
  "kernelspec": {
   "display_name": "Python 3",
   "language": "python",
   "name": "python3"
  },
  "language_info": {
   "codemirror_mode": {
    "name": "ipython",
    "version": 3
   },
   "file_extension": ".py",
   "mimetype": "text/x-python",
   "name": "python",
   "nbconvert_exporter": "python",
   "pygments_lexer": "ipython3",
   "version": "3.7.1"
  }
 },
 "nbformat": 4,
 "nbformat_minor": 2
}
